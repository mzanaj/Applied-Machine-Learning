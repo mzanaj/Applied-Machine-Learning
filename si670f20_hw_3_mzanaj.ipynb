{
 "cells": [
  {
   "cell_type": "markdown",
   "metadata": {
    "colab_type": "text",
    "id": "OWTe9VS3_b11"
   },
   "source": [
    "## SI 670 Applied Machine Learning, Week 3:  Regularization, Logistic Regression, and Evaluation (Due 09/28 11:59pm)\n",
    "\n",
    "For this assignment, you will be exercising on questions related to linear regression, polynomial feature expansion, underfitting/overfitting, and cross-validation.\n",
    "\n",
    "Each question is worth 20 points, for a total of 100 points. Correct answers and code receive full credit, but partial credit will be awarded if you have the right idea even if your final answers aren't quite right.\n",
    "\n",
    "Submit your completed notebook file to the Canvas site - IMPORTANT: please name your submitted file si670-hw1-youruniqname.ipynb and be sure to put your name at the top of your notebook file. Please also make sure to upload the html version.\n",
    "\n",
    "As a reminder, the notebook code you submit must be your own work. Feel free to discuss general approaches to the homework with classmates: if you end up forming more of a team discussion on multiple questions, please include the names of the people you worked with at the top of your notebook file.\n"
   ]
  },
  {
   "cell_type": "markdown",
   "metadata": {},
   "source": [
    "### Put your name here: Martin Zanaj\n",
    "\n",
    "### Put your uniquename here: mzanaj"
   ]
  },
  {
   "cell_type": "markdown",
   "metadata": {
    "colab_type": "text",
    "id": "-_pUE4abw2eQ"
   },
   "source": [
    "### Preliminary\n",
    "In this assignment you will train several linear classifier models and evaluate how effectively they predict instances of fraud using data based on [this dataset from Kaggle](https://www.kaggle.com/dalpozz/creditcardfraud). Then you'll perform a grid search to find optimal parameters. \n",
    " \n",
    "Each row in `fraud_data.csv` corresponds to a credit card transaction. Features include confidential variables `V1` through `V28` as well as `Amount` which is the amount of the transaction. \n",
    " \n",
    "The target is stored in the `class` column, where a value of 1 corresponds to an instance of fraud and 0 corresponds to an instance of not fraud."
   ]
  },
  {
   "cell_type": "code",
   "execution_count": 1,
   "metadata": {},
   "outputs": [],
   "source": [
    "# run this cell if you are using Jupyter\n",
    "files = {'fraud_data.csv': 'fraud_data.csv'}"
   ]
  },
  {
   "cell_type": "code",
   "execution_count": 2,
   "metadata": {},
   "outputs": [
    {
     "data": {
      "text/html": [
       "<div>\n",
       "<style scoped>\n",
       "    .dataframe tbody tr th:only-of-type {\n",
       "        vertical-align: middle;\n",
       "    }\n",
       "\n",
       "    .dataframe tbody tr th {\n",
       "        vertical-align: top;\n",
       "    }\n",
       "\n",
       "    .dataframe thead th {\n",
       "        text-align: right;\n",
       "    }\n",
       "</style>\n",
       "<table border=\"1\" class=\"dataframe\">\n",
       "  <thead>\n",
       "    <tr style=\"text-align: right;\">\n",
       "      <th></th>\n",
       "      <th>Time</th>\n",
       "      <th>V1</th>\n",
       "      <th>V2</th>\n",
       "      <th>V3</th>\n",
       "      <th>V4</th>\n",
       "      <th>V5</th>\n",
       "      <th>V6</th>\n",
       "      <th>V7</th>\n",
       "      <th>V8</th>\n",
       "      <th>V9</th>\n",
       "      <th>...</th>\n",
       "      <th>V21</th>\n",
       "      <th>V22</th>\n",
       "      <th>V23</th>\n",
       "      <th>V24</th>\n",
       "      <th>V25</th>\n",
       "      <th>V26</th>\n",
       "      <th>V27</th>\n",
       "      <th>V28</th>\n",
       "      <th>Amount</th>\n",
       "      <th>Class</th>\n",
       "    </tr>\n",
       "  </thead>\n",
       "  <tbody>\n",
       "    <tr>\n",
       "      <th>0</th>\n",
       "      <td>0.0</td>\n",
       "      <td>-1.359807</td>\n",
       "      <td>-0.072781</td>\n",
       "      <td>2.536347</td>\n",
       "      <td>1.378155</td>\n",
       "      <td>-0.338321</td>\n",
       "      <td>0.462388</td>\n",
       "      <td>0.239599</td>\n",
       "      <td>0.098698</td>\n",
       "      <td>0.363787</td>\n",
       "      <td>...</td>\n",
       "      <td>-0.018307</td>\n",
       "      <td>0.277838</td>\n",
       "      <td>-0.110474</td>\n",
       "      <td>0.066928</td>\n",
       "      <td>0.128539</td>\n",
       "      <td>-0.189115</td>\n",
       "      <td>0.133558</td>\n",
       "      <td>-0.021053</td>\n",
       "      <td>149.62</td>\n",
       "      <td>0</td>\n",
       "    </tr>\n",
       "    <tr>\n",
       "      <th>1</th>\n",
       "      <td>0.0</td>\n",
       "      <td>1.191857</td>\n",
       "      <td>0.266151</td>\n",
       "      <td>0.166480</td>\n",
       "      <td>0.448154</td>\n",
       "      <td>0.060018</td>\n",
       "      <td>-0.082361</td>\n",
       "      <td>-0.078803</td>\n",
       "      <td>0.085102</td>\n",
       "      <td>-0.255425</td>\n",
       "      <td>...</td>\n",
       "      <td>-0.225775</td>\n",
       "      <td>-0.638672</td>\n",
       "      <td>0.101288</td>\n",
       "      <td>-0.339846</td>\n",
       "      <td>0.167170</td>\n",
       "      <td>0.125895</td>\n",
       "      <td>-0.008983</td>\n",
       "      <td>0.014724</td>\n",
       "      <td>2.69</td>\n",
       "      <td>0</td>\n",
       "    </tr>\n",
       "    <tr>\n",
       "      <th>2</th>\n",
       "      <td>1.0</td>\n",
       "      <td>-1.358354</td>\n",
       "      <td>-1.340163</td>\n",
       "      <td>1.773209</td>\n",
       "      <td>0.379780</td>\n",
       "      <td>-0.503198</td>\n",
       "      <td>1.800499</td>\n",
       "      <td>0.791461</td>\n",
       "      <td>0.247676</td>\n",
       "      <td>-1.514654</td>\n",
       "      <td>...</td>\n",
       "      <td>0.247998</td>\n",
       "      <td>0.771679</td>\n",
       "      <td>0.909412</td>\n",
       "      <td>-0.689281</td>\n",
       "      <td>-0.327642</td>\n",
       "      <td>-0.139097</td>\n",
       "      <td>-0.055353</td>\n",
       "      <td>-0.059752</td>\n",
       "      <td>378.66</td>\n",
       "      <td>0</td>\n",
       "    </tr>\n",
       "    <tr>\n",
       "      <th>3</th>\n",
       "      <td>1.0</td>\n",
       "      <td>-0.966272</td>\n",
       "      <td>-0.185226</td>\n",
       "      <td>1.792993</td>\n",
       "      <td>-0.863291</td>\n",
       "      <td>-0.010309</td>\n",
       "      <td>1.247203</td>\n",
       "      <td>0.237609</td>\n",
       "      <td>0.377436</td>\n",
       "      <td>-1.387024</td>\n",
       "      <td>...</td>\n",
       "      <td>-0.108300</td>\n",
       "      <td>0.005274</td>\n",
       "      <td>-0.190321</td>\n",
       "      <td>-1.175575</td>\n",
       "      <td>0.647376</td>\n",
       "      <td>-0.221929</td>\n",
       "      <td>0.062723</td>\n",
       "      <td>0.061458</td>\n",
       "      <td>123.50</td>\n",
       "      <td>0</td>\n",
       "    </tr>\n",
       "    <tr>\n",
       "      <th>4</th>\n",
       "      <td>2.0</td>\n",
       "      <td>-1.158233</td>\n",
       "      <td>0.877737</td>\n",
       "      <td>1.548718</td>\n",
       "      <td>0.403034</td>\n",
       "      <td>-0.407193</td>\n",
       "      <td>0.095921</td>\n",
       "      <td>0.592941</td>\n",
       "      <td>-0.270533</td>\n",
       "      <td>0.817739</td>\n",
       "      <td>...</td>\n",
       "      <td>-0.009431</td>\n",
       "      <td>0.798278</td>\n",
       "      <td>-0.137458</td>\n",
       "      <td>0.141267</td>\n",
       "      <td>-0.206010</td>\n",
       "      <td>0.502292</td>\n",
       "      <td>0.219422</td>\n",
       "      <td>0.215153</td>\n",
       "      <td>69.99</td>\n",
       "      <td>0</td>\n",
       "    </tr>\n",
       "  </tbody>\n",
       "</table>\n",
       "<p>5 rows × 31 columns</p>\n",
       "</div>"
      ],
      "text/plain": [
       "   Time        V1        V2        V3        V4        V5        V6        V7  \\\n",
       "0   0.0 -1.359807 -0.072781  2.536347  1.378155 -0.338321  0.462388  0.239599   \n",
       "1   0.0  1.191857  0.266151  0.166480  0.448154  0.060018 -0.082361 -0.078803   \n",
       "2   1.0 -1.358354 -1.340163  1.773209  0.379780 -0.503198  1.800499  0.791461   \n",
       "3   1.0 -0.966272 -0.185226  1.792993 -0.863291 -0.010309  1.247203  0.237609   \n",
       "4   2.0 -1.158233  0.877737  1.548718  0.403034 -0.407193  0.095921  0.592941   \n",
       "\n",
       "         V8        V9  ...         V21       V22       V23       V24  \\\n",
       "0  0.098698  0.363787  ...   -0.018307  0.277838 -0.110474  0.066928   \n",
       "1  0.085102 -0.255425  ...   -0.225775 -0.638672  0.101288 -0.339846   \n",
       "2  0.247676 -1.514654  ...    0.247998  0.771679  0.909412 -0.689281   \n",
       "3  0.377436 -1.387024  ...   -0.108300  0.005274 -0.190321 -1.175575   \n",
       "4 -0.270533  0.817739  ...   -0.009431  0.798278 -0.137458  0.141267   \n",
       "\n",
       "        V25       V26       V27       V28  Amount  Class  \n",
       "0  0.128539 -0.189115  0.133558 -0.021053  149.62      0  \n",
       "1  0.167170  0.125895 -0.008983  0.014724    2.69      0  \n",
       "2 -0.327642 -0.139097 -0.055353 -0.059752  378.66      0  \n",
       "3  0.647376 -0.221929  0.062723  0.061458  123.50      0  \n",
       "4 -0.206010  0.502292  0.219422  0.215153   69.99      0  \n",
       "\n",
       "[5 rows x 31 columns]"
      ]
     },
     "execution_count": 2,
     "metadata": {},
     "output_type": "execute_result"
    }
   ],
   "source": [
    "%matplotlib inline\n",
    "import matplotlib.pyplot as plt\n",
    "import numpy as np\n",
    "import pandas as pd\n",
    "from sklearn.model_selection import train_test_split\n",
    "\n",
    "from sklearn.model_selection import train_test_split\n",
    "\n",
    "df = pd.read_csv(files['fraud_data.csv'])\n",
    "\n",
    "X = df.iloc[:,:-1]\n",
    "y = df.iloc[:,-1]\n",
    "\n",
    "X_train, X_test, y_train, y_test = train_test_split(X, y, random_state=0)\n",
    "\n",
    "df.head()"
   ]
  },
  {
   "cell_type": "code",
   "execution_count": 3,
   "metadata": {},
   "outputs": [],
   "source": [
    "#Will avoid displaying warning messages against logistic's regression\n",
    "import warnings\n",
    "warnings.filterwarnings(\"ignore\")"
   ]
  },
  {
   "cell_type": "markdown",
   "metadata": {
    "colab_type": "text",
    "id": "itE2L8t4w2ee"
   },
   "source": [
    "### Question 1 (20 points)\n",
    "\n",
    "Using `X_train`, `X_test`, `y_train`, and `y_test` (as defined above), train a dummy classifier that classifies everything as the majority class of the training data. What is the accuracy of this classifier? What is the recall?\n",
    "\n",
    "Then train a LogisticRegression classifier with C=1. What is the accuracy? What is the recall?\n",
    "\n",
    "*This function should a return a tuple with four floats, i.e. `(dummy_accuracy, dummy_recall, lr_accuracy, lr_recall)`.*"
   ]
  },
  {
   "cell_type": "code",
   "execution_count": 4,
   "metadata": {},
   "outputs": [
    {
     "data": {
      "text/plain": [
       "(0.9983146540827504, 0.0, 0.9990871042948232, 0.6)"
      ]
     },
     "execution_count": 4,
     "metadata": {},
     "output_type": "execute_result"
    }
   ],
   "source": [
    "def answer_one():\n",
    "    from sklearn.dummy import DummyClassifier\n",
    "    from sklearn.linear_model import LogisticRegression\n",
    "    from sklearn.metrics import accuracy_score,recall_score\n",
    "    from sklearn.metrics import confusion_matrix\n",
    "    \n",
    "    #Dummy classifier\n",
    "    #Negative class (0) is most frequent, frauds are less likely to happen\n",
    "    dummy_majority = DummyClassifier(strategy = 'most_frequent').fit(X_train, y_train)\n",
    "    y_majority_predicted = dummy_majority.predict(X_test)\n",
    "    \n",
    "    #Logistics Classifier\n",
    "    lr = LogisticRegression(C=1).fit(X_train, y_train)\n",
    "    lr_predicted = lr.predict(X_test)\n",
    "        \n",
    "    #Metrics\n",
    "    dummy_accuracy= accuracy_score(y_test, y_majority_predicted)\n",
    "    dummy_recall = recall_score(y_test, y_majority_predicted)\n",
    "    \n",
    "    lr_accuracy= accuracy_score(y_test, lr_predicted)\n",
    "    lr_recall = recall_score(y_test, lr_predicted)\n",
    "    \n",
    "    \n",
    "    #Double check metrics\n",
    "    #Accuracy = TP + TN / (TP + TN + FP + FN)\n",
    "    #Recall = TP / (TP + FN)  Also known as sensitivity, or True Positive Rate\n",
    "    confusion_d = confusion_matrix(y_test, y_majority_predicted)\n",
    "    confusion_l = confusion_matrix(y_test, lr_predicted)\n",
    "    \n",
    "    return dummy_accuracy, dummy_recall, lr_accuracy, lr_recall\n",
    "\n",
    "answer_one()"
   ]
  },
  {
   "cell_type": "markdown",
   "metadata": {},
   "source": [
    "### Question 2 (20 points)\n",
    "\n",
    "Fit the LogisticRegression with `C` varying from `[[0.1, 1, 10]` and report the accuracy, precision, recall, and F1 scores for each choice of `C`.\n",
    "\n",
    "*This function should a return a tuple with four lists, i.e. `(accuracy_list, precision_list, recall_list, f1_list)`, and each list should contain 3 numbers.*"
   ]
  },
  {
   "cell_type": "code",
   "execution_count": 5,
   "metadata": {},
   "outputs": [
    {
     "data": {
      "text/plain": [
       "([0.9990871042948232, 0.9990871042948232, 0.9990871042948232],\n",
       " [0.8089887640449438, 0.8089887640449438, 0.8089887640449438],\n",
       " [0.6, 0.6, 0.6],\n",
       " [0.6889952153110048, 0.6889952153110048, 0.6889952153110048])"
      ]
     },
     "execution_count": 5,
     "metadata": {},
     "output_type": "execute_result"
    }
   ],
   "source": [
    "def answer_two():\n",
    "    from sklearn.linear_model import LogisticRegression\n",
    "    from sklearn.metrics import accuracy_score, precision_score, recall_score, f1_score\n",
    "    from sklearn.metrics import confusion_matrix\n",
    "    \n",
    "    #Logistics regression for different  C levels\n",
    "    C= [0.1,1,10]\n",
    "    accuracy_list = []\n",
    "    precision_list = []\n",
    "    recall_list = []\n",
    "    f1_list = []\n",
    "    \n",
    "    for c_level in C:\n",
    "        #Model, prediction\n",
    "        logr = LogisticRegression(C=c_level).fit(X_train, y_train)\n",
    "        logr_pred = logr.predict(X_test)\n",
    "        \n",
    "        #Metrics\n",
    "        accuracy_list.append(accuracy_score(y_test, logr_pred))\n",
    "        precision_list.append(precision_score(y_test, logr_pred))\n",
    "        recall_list.append(recall_score(y_test, logr_pred))\n",
    "        f1_list.append(f1_score(y_test, logr_pred))\n",
    "        #print(confusion_matrix(y_test, logr_pred))\n",
    "\n",
    "    return accuracy_list, precision_list, recall_list, f1_list\n",
    "\n",
    "answer_two()"
   ]
  },
  {
   "cell_type": "markdown",
   "metadata": {},
   "source": [
    "### Question 3 (20 points)\n",
    "\n",
    "Train a logistic regression classifier with `C=10` using X_train and y_train.\n",
    "\n",
    "For the logistic regression classifier, create (1) a precision-recall curve and (2) a roc curve using y_test and the probability estimates for X_test (probability it is fraud).\n",
    "\n",
    "Looking at the precision recall curve, what is the recall when the precision is `0.75`?\n",
    "\n",
    "Looking at the ROC curve, what is the true positive rate when the false positive rate is `0.16`?\n",
    "\n",
    "*This function should return a tuple with two floats, i.e. `(recall_at_p75, tpr_at_fpr16)`.*\n",
    "*You should also includce code to generate the precision/recall and ROC curves above*"
   ]
  },
  {
   "cell_type": "code",
   "execution_count": 6,
   "metadata": {},
   "outputs": [
    {
     "data": {
      "image/png": "[encoded data removed]",
      "text/plain": [
       "<Figure size 432x288 with 1 Axes>"
      ]
     },
     "metadata": {
      "needs_background": "light"
     },
     "output_type": "display_data"
    },
    {
     "data": {
      "image/png": "[encoded data removed]",
      "text/plain": [
       "<Figure size 576x576 with 1 Axes>"
      ]
     },
     "metadata": {
      "needs_background": "light"
     },
     "output_type": "display_data"
    },
    {
     "data": {
      "text/plain": [
       "(0.7, 0.75)"
      ]
     },
     "execution_count": 6,
     "metadata": {},
     "output_type": "execute_result"
    }
   ],
   "source": [
    "def answer_three():\n",
    "    from sklearn.linear_model import LogisticRegression\n",
    "    from sklearn.metrics import precision_recall_curve\n",
    "    from sklearn.metrics import roc_curve, auc\n",
    "    import matplotlib.pyplot as plt\n",
    "    \n",
    "    #Model, prediction\n",
    "    logr = LogisticRegression(C=10).fit(X_train, y_train)\n",
    "    logr_pred = logr.predict(X_test)    \n",
    "    y_score = logr.decision_function(X_test)\n",
    "\n",
    "    #Precision Recall curve\n",
    "    precision, recall, thresholds = precision_recall_curve(y_test, y_score)\n",
    "    \n",
    "    #Precision Recall graph\n",
    "    plt.figure()\n",
    "    plt.xlim([0.0, 1.01])\n",
    "    plt.ylim([0.0, 1.01])\n",
    "    plt.plot(precision, recall, label='Precision-Recall Curve')\n",
    "    \n",
    "    plt.xlabel('Precision', fontsize=16)\n",
    "    plt.ylabel('Recall', fontsize=16)\n",
    "    plt.title('Precision vs Recall')\n",
    "    plt.axes().set_aspect('equal')\n",
    "    plt.show()\n",
    "    \n",
    "    fpr, tpr, _ = roc_curve(y_test, y_score)  \n",
    "    roc_auc = auc(fpr, tpr) \n",
    "    \n",
    "    plt.figure(figsize=(8, 8))\n",
    "    plt.xlim([-0.01, 1.00])\n",
    "    plt.ylim([-0.01, 1.01])\n",
    "    plt.plot(fpr, tpr, lw=3, label='LogRegr ROC curve (area = {:0.2f})'.format(roc_auc))\n",
    "    plt.xlabel('False Positive Rate', fontsize=16)\n",
    "    plt.ylabel('True Positive Rate', fontsize=16)\n",
    "    plt.title('ROC curve (1-of-10 digits classifier)', fontsize=16)\n",
    "    plt.legend(loc='lower right', fontsize=13)\n",
    "    plt.plot([0, 1], [0, 1], color='navy', lw=3, linestyle='--')\n",
    "    plt.axes().set_aspect('equal')\n",
    "    plt.show()\n",
    "    \n",
    "    #These are approximations from looking at the graph\n",
    "    recall_at_p75 = 0.70\n",
    "    tpr_at_fpr16 = 0.75\n",
    "    \n",
    "    return recall_at_p75, tpr_at_fpr16\n",
    "\n",
    "answer_three()"
   ]
  },
  {
   "cell_type": "markdown",
   "metadata": {},
   "source": [
    "## Question 4 (20 Points)\n",
    "\n",
    "Suppose you have trained a classifier distinguishing Benign vs Malignant cancers. And the confusion matrix of your classifier is given below.\n",
    "\n",
    "|      \t| Predicted: Benign \t| Predicted: Malignant \t|\n",
    "|:----:\t|----\t|----\t|\n",
    "| Actual: Benign \t|    10000\t|   100 \t|\n",
    "| Actual: Malignant  \t|    200\t|   10 \t|\n",
    "\n",
    "### Question (a) (10 points) \n",
    "If we assume Benign is the positive class and Malignant is the negative class, what are the precision and recall for Benign? If we assume Malignant is the positive class and Benign is the negative class, what are the precision and recall for Malignant?\n",
    "\n",
    "*This function should return a tuple of four float numbers: `(precision_benign, recall_genign, precision_maligant, recall_maligant)`. You can calculate these scores either by coding or by hands.*"
   ]
  },
  {
   "cell_type": "code",
   "execution_count": 7,
   "metadata": {},
   "outputs": [
    {
     "data": {
      "text/plain": [
       "(0.9803921568627451,\n",
       " 0.9900990099009901,\n",
       " 0.09090909090909091,\n",
       " 0.047619047619047616)"
      ]
     },
     "execution_count": 7,
     "metadata": {},
     "output_type": "execute_result"
    }
   ],
   "source": [
    "def answer_four_a():\n",
    "    \n",
    "    #Benign ==1 , Malign==0\n",
    "    #Precision, TP/ TP+FP\n",
    "    precision_benign = 10000/ (10000+200)\n",
    "    #Recall, TP/TP+FN\n",
    "    recall_genign = 10000/ (10000+100)\n",
    "       \n",
    "    #Malign==1 , Benign ==0\n",
    "    #Precision, TP/ TP+FP\n",
    "    precision_maligant = 10/ (10+ 100)\n",
    "    #Recall, TP/TP+FN\n",
    "    recall_maligant =  10/ (10+200)\n",
    "    \n",
    "    #Fscores\n",
    "    f_score1= 2* (precision_benign*recall_genign)/ (precision_benign+recall_genign)\n",
    "    f_score2= 2* (precision_maligant*recall_maligant)/ (precision_maligant+recall_maligant)\n",
    "    \n",
    "#     print(\"F1: \", f_score1)\n",
    "#     print(\"F2: \", f_score2)\n",
    "    return precision_benign, recall_genign, precision_maligant, recall_maligant\n",
    "\n",
    "answer_four_a()"
   ]
  },
  {
   "cell_type": "markdown",
   "metadata": {},
   "source": [
    "### Question (b) (10 points) \n",
    "If you have another classifier with the following confusion matrix, which classifier do you prefer and why? (Hint: calculate the precision and recall scores for this classifier and compare with the previous classifier.)\n",
    "\n",
    "|      \t| Predicted: Benign \t| Predicted: Malignant \t|\n",
    "|:----:\t|----\t|----\t|\n",
    "| Actual: Benign \t|    7000\t|   3100 \t|\n",
    "| Actual: Malignant  \t|    30\t|   180 \t|\n"
   ]
  },
  {
   "cell_type": "code",
   "execution_count": 40,
   "metadata": {},
   "outputs": [
    {
     "name": "stdout",
     "output_type": "stream",
     "text": [
      "0.9957325746799431 0.693069306930693 0.9451219512195121 0.9904153354632588\n",
      "F1:  0.8172796263864565\n",
      "F2:  0.967238689547582\n"
     ]
    }
   ],
   "source": [
    "#Benign ==1 , Malign==0\n",
    "#Precision, TP/ TP+FP\n",
    "precision_benign = 7000/ (7000+30)\n",
    "#Recall, TP/TP+FN\n",
    "recall_genign = 7000/ (7000+3100)\n",
    "       \n",
    "#Malign==1 , Benign ==0\n",
    "#Precision, TP/ TP+FP\n",
    "precision_maligant = 3100/ (3100+ 180)\n",
    "#Recall, TP/TP+FN\n",
    "recall_maligant =  3100/ (3100+30)\n",
    "print(precision_benign, recall_genign, precision_maligant, recall_maligant)\n",
    "\n",
    "f_score11= 2* (precision_benign*recall_genign)/ (precision_benign+recall_genign)\n",
    "f_score22= 2* (precision_maligant*recall_maligant)/ (precision_maligant+recall_maligant)\n",
    "   \n",
    "print(\"F1: \", f_score11)\n",
    "print(\"F2: \", f_score22)"
   ]
  },
  {
   "cell_type": "markdown",
   "metadata": {},
   "source": [
    "#### Answer to quesiton 4 (b)\n",
    "\n",
    ">In the **first model** case 1 has high precision & high recall (.98,.99), but in the second case we have poor precision & poor reacall (0.09, 0.04). In the **second model** case 1 has high precision & low recall (.99,.69), and in the second case we have high precision & high reacall (0.94, 0.99).\n",
    "\n",
    ">At first it might not be apparent which model  is the best, and that is why computing the F1 score can help with the final evaluation. \n",
    "\n",
    "     Fscore model 1\n",
    "        - Case 1: 0.98\n",
    "        - Case 2: 0.06\n",
    "        \n",
    "     Fscore model 2\n",
    "        - Case 1: 0.82\n",
    "        - Case 2: 0.97\n",
    "\n",
    ">In conclusion, I would suggest that *model 2* has a better overall performance given that is has a more balanced ratio between precision & recall(FP, FN). Altough, this is preferedd, one must as well consider the *domain of application* and willing to make tradeoffs between the two competing forces of precision & recall. "
   ]
  },
  {
   "cell_type": "markdown",
   "metadata": {
    "colab": {},
    "colab_type": "code",
    "id": "fgXuLM17VoZ-"
   },
   "source": [
    "## Question 5 (20 Points)\n",
    "\n",
    "Now, we will compare the performance of Ridge, Lasso and OLS perform on the dataset where the relationship between X and y is non-linear.\n",
    "\n",
    "Let's start by generating some data using the function below. \n"
   ]
  },
  {
   "cell_type": "code",
   "execution_count": 8,
   "metadata": {},
   "outputs": [],
   "source": [
    "import numpy as np\n",
    "\n",
    "def generate_data(n_samples, n_features, noise=0.0, random_state=670):\n",
    "    assert n_features > 1\n",
    "    rs = np.random.RandomState(random_state)\n",
    "    X = rs.uniform(size=(n_samples, n_features))\n",
    "    y = 3 * np.sin(2*np.pi * X[:, 0]) + 6.7 * X[:, 1] + 10 * np.power(X[:, 2], 3) + noise * rs.normal(size=(n_samples,))\n",
    "    return X, y\n",
    "X, y = generate_data(n_samples = 200, n_features=10, noise=1, random_state=670)"
   ]
  },
  {
   "cell_type": "markdown",
   "metadata": {},
   "source": [
    "### Question 5 (a) Feature expansion (5 points)\n",
    "First, we are going use sklearn.preprocessing.PolynomialFeatures with `degree = 3`  to expand the feature (Remeber we did that in Lab 2!) \n",
    "\n",
    "*This function should return `X_poly`, which is the new feature set after feature expansion.*"
   ]
  },
  {
   "cell_type": "code",
   "execution_count": 9,
   "metadata": {},
   "outputs": [
    {
     "data": {
      "text/plain": [
       "array([[1.00000000e+00, 5.68227393e-02, 2.27414107e-02, ...,\n",
       "        2.35360618e-02, 4.68318550e-02, 9.31856257e-02],\n",
       "       [1.00000000e+00, 9.05263188e-01, 9.24187355e-01, ...,\n",
       "        4.14924001e-01, 2.41676170e-01, 1.40766431e-01],\n",
       "       [1.00000000e+00, 6.50709351e-01, 1.28597300e-01, ...,\n",
       "        1.59759055e-02, 2.22254166e-02, 3.09196333e-02],\n",
       "       ...,\n",
       "       [1.00000000e+00, 8.93692785e-01, 4.15921030e-01, ...,\n",
       "        3.76747976e-02, 6.24732846e-02, 1.03594751e-01],\n",
       "       [1.00000000e+00, 3.99743480e-01, 8.59403360e-01, ...,\n",
       "        2.18379718e-03, 1.79022498e-03, 1.46758385e-03],\n",
       "       [1.00000000e+00, 2.03035027e-01, 1.87128496e-01, ...,\n",
       "        1.68814391e-04, 1.09333436e-03, 7.08103150e-03]])"
      ]
     },
     "execution_count": 9,
     "metadata": {},
     "output_type": "execute_result"
    }
   ],
   "source": [
    "from sklearn.preprocessing import PolynomialFeatures\n",
    "def answer_five_expansion():\n",
    "    # Polynomial expansion\n",
    "    poly = PolynomialFeatures(degree= 3)\n",
    "    X_poly = poly.fit_transform(X)\n",
    "    return X_poly\n",
    "answer_five_expansion()\n"
   ]
  },
  {
   "cell_type": "markdown",
   "metadata": {},
   "source": [
    "### Question 5 (b) Split and Standardize (5 points)\n",
    "Then, use the `sklearn.preprocessing.StandardScaler` to normalize the feature `X_poly` and split the training and testing data with `train_size = 0.8` and `random_state = 670`. \n",
    "\n",
    "*This function should return the standardized dataset, `standardized_X_poly_train, standardized_X_poly_test, y_poly_train, y_poly_test`.*"
   ]
  },
  {
   "cell_type": "code",
   "execution_count": 10,
   "metadata": {},
   "outputs": [
    {
     "data": {
      "text/plain": [
       "(array([[ 0.        ,  1.52443361,  1.13127464, ..., -0.75901895,\n",
       "         -0.67388025, -0.62659948],\n",
       "        [ 0.        , -0.76923476,  0.8787083 , ..., -0.12284315,\n",
       "         -0.57675353, -0.80395527],\n",
       "        [ 0.        ,  0.14637105, -0.39850109, ...,  1.50628647,\n",
       "          0.35722254, -0.44911109],\n",
       "        ...,\n",
       "        [ 0.        ,  1.22898015,  0.08764707, ..., -0.79435078,\n",
       "         -0.76681621, -0.79385361],\n",
       "        [ 0.        , -0.31888116,  1.12614288, ..., -0.81659096,\n",
       "         -0.79633825,  0.11136322],\n",
       "        [ 0.        ,  1.00109535,  1.12274753, ...,  0.07180839,\n",
       "          0.59892653,  0.70377897]]),\n",
       " array([[ 0.        ,  1.04609853, -0.55001307, ..., -0.89255471,\n",
       "         -0.83366274,  0.2283439 ],\n",
       "        [ 0.        , -0.53431493, -0.29429849, ..., -0.8764151 ,\n",
       "         -0.65582463,  0.6597581 ],\n",
       "        [ 0.        , -1.5897467 , -0.81312309, ...,  0.46146557,\n",
       "         -0.35623492, -0.8063101 ],\n",
       "        ...,\n",
       "        [ 0.        , -0.63619274, -1.28096832, ..., -0.62394604,\n",
       "         -0.82046789, -0.92368461],\n",
       "        [ 0.        ,  1.32623237, -0.95827421, ..., -0.83560207,\n",
       "         -0.74318029, -0.78301213],\n",
       "        [ 0.        ,  0.8350441 ,  1.61958847, ..., -0.84657108,\n",
       "         -0.37374732,  2.35371418]]),\n",
       " array([ 5.12336358,  8.57605069,  2.5544901 ,  4.15647006, 12.26110953,\n",
       "        10.40688473,  6.66240352,  7.72590606,  7.07161962, 10.69610078,\n",
       "         3.75241444,  2.24888434,  2.07271021,  3.6487069 ,  1.03860673,\n",
       "         8.79748931,  5.02330562, 11.04842055,  9.76524044, 15.11799623,\n",
       "        10.72914314,  5.61817658,  4.18274094,  9.34235906,  2.53722299,\n",
       "        10.52283479,  2.10623688,  7.26857857,  1.6396896 ,  7.24314005,\n",
       "         2.45729037,  4.43629805,  3.67686919,  4.51853739,  3.19595719,\n",
       "        12.48876284,  7.63737384,  3.2772144 ,  4.62721887,  2.32624443,\n",
       "        10.31395788,  9.09347894,  6.3287308 ,  3.67266516, 10.21166462,\n",
       "         6.57624653,  8.76572158,  4.97354918,  5.13206216,  1.62883607,\n",
       "         5.02903353,  8.70287898, 11.78037631,  8.14428692,  5.57189571,\n",
       "         4.62491257,  9.86856596, 16.93861243,  6.35604226,  4.5282634 ,\n",
       "         1.6344041 ,  7.48367264, -1.27441637,  0.9929828 ,  0.02078917,\n",
       "         2.22747573, 12.22384973,  5.28172166,  3.69706981,  3.15018212,\n",
       "         4.56990322,  3.49267597,  5.88083642,  8.63828075,  2.51133159,\n",
       "         5.48693889,  4.50935288, 16.02560533,  0.49918364,  4.48328927,\n",
       "         0.37357513,  4.10630472,  6.01210203,  6.31524906, 15.62350187,\n",
       "         9.35791898,  8.38561993,  6.23820752, 13.18413833,  7.33472029,\n",
       "         2.45504381,  3.37161669,  4.69900999,  6.59990538,  0.7687367 ,\n",
       "        11.22978534,  3.6784359 ,  4.86505404,  4.30676623,  4.60533012,\n",
       "         8.32960574, 10.61146321,  7.16372814, 13.4855887 ,  3.9590474 ,\n",
       "         8.61183911,  6.13059048,  6.56246523,  4.03028619, 12.1185235 ,\n",
       "         9.68436901,  1.41804213,  5.42286025,  7.77308359, 12.72781908,\n",
       "        10.21225963, 11.31836292,  9.08542261,  4.92575797, 13.99022087,\n",
       "         6.96094364,  1.76403254,  9.15662261,  5.75994846,  8.5360311 ,\n",
       "        -0.65690009,  2.80634628, 10.41658817,  2.71327727,  7.62402869,\n",
       "        13.57911971,  2.10176108,  1.83825811,  1.70181118, 10.40820584,\n",
       "         1.10859273,  3.8003933 ,  8.64718587,  0.41788885, 10.15209273,\n",
       "        10.06742167,  2.3043708 ,  3.94315606,  8.49410583, 15.75878018,\n",
       "        15.69204302,  0.71480129, 12.31748962,  2.34733659,  2.83232077,\n",
       "         6.28481379,  2.776313  ,  4.9470681 ,  5.26700422,  3.94969317,\n",
       "         0.37067002,  7.32669397,  0.2813314 ,  5.98948563,  4.06323616]),\n",
       " array([ 6.34701799, 10.82970574,  3.71060638,  2.20031389,  4.21272951,\n",
       "         7.63423834, 11.94565153,  4.42544416,  6.17217164,  7.02674626,\n",
       "         9.67154279,  2.71432886,  0.9242121 ,  4.33493237, 10.65443155,\n",
       "         0.91856048,  2.99771289,  3.1302912 ,  7.97171053,  4.1884179 ,\n",
       "         9.58638144,  7.50957275,  1.47963414, 13.25398522,  2.13356274,\n",
       "         5.04559416,  8.06403494,  5.96944766,  2.54778455,  1.66411186,\n",
       "         3.36368766,  8.83084928,  6.21216761,  1.29260985,  4.1809068 ,\n",
       "         0.10102604,  8.17038335,  6.95707933,  0.69350568,  5.12548029]))"
      ]
     },
     "execution_count": 10,
     "metadata": {},
     "output_type": "execute_result"
    }
   ],
   "source": [
    "from sklearn.model_selection import train_test_split\n",
    "from sklearn.preprocessing import StandardScaler\n",
    "\n",
    "def answer_five_split_standardize():\n",
    "    X_poly = answer_five_expansion()\n",
    "    \n",
    "    #Train/Test Dataset\n",
    "    X_train, X_test, y_poly_train, y_poly_test = train_test_split(X_poly, y, random_state=670, train_size= .80)\n",
    "    \n",
    "    #Standardize/normalize the data (mean=0, sd=1)\n",
    "    scaler = StandardScaler()\n",
    "    \n",
    "    standardized_X_poly_train = scaler.fit_transform(X_train)\n",
    "    standardized_X_poly_test = scaler.fit_transform(X_test)\n",
    "    \n",
    "    return standardized_X_poly_train, standardized_X_poly_test, y_poly_train, y_poly_test\n",
    "answer_five_split_standardize()"
   ]
  },
  {
   "cell_type": "markdown",
   "metadata": {},
   "source": [
    "### Question 5 (c-1) Model comparison (2 points)\n",
    "If we train different linear models, i.e., Linear Regression, Ridge, and Lasso, with the pre-processed training set (standardized_X_poly_train, y_poly_train), which model do you expect to generate the best performance on the testing set and why?"
   ]
  },
  {
   "cell_type": "markdown",
   "metadata": {},
   "source": [
    "#### Answer to Question 5 (c-1)\n",
    "Our predictor space is fairly large, and as a result I aspect linear regression (ols) to overfit the training data given that it might perceive the high **random noise** contamination as something real. As a result of this overfit, it will yield a high performance (smalle RSE). The other two methods, Lasso & Ridge, are still in part OLS, but do have some regularization parameters that can aid against overfitting. Finally, I do aspect Lasso to be the best model on the TESTING data, given that it can act as a model/feature selection as it pushes insignificant coefficients to ZERO."
   ]
  },
  {
   "cell_type": "markdown",
   "metadata": {},
   "source": [
    "### Question 5 (c-2) Model comparison and model selection (8 points)\n",
    "Next, let's see which model indeed performs better on our dataset. In this function, you will:\n",
    "* Train a Linear Regression model (with default settings), and print the training and testing R-squared scores;\n",
    "* Train a Ridge model for each alpha in the `alpha_list`, select the Ridge model that generates the highest R-squared score on the training set, print both the training and testing R-squared scores of the best-performing Ridge model (i.e., the model with the alpha that generates the highest R-squared score);\n",
    "* Train a Lasso model for each alpha in the `alpha_list`, select the Lasso model that generates the highest R-squared score on the training set, print both the training and testing R-squared scores of the best-performing Lasso model (i.e., the Lasso model with the alpha that generates the highest R-squared score);\n",
    "* Return the the training and testing R-squared scores of the Linear Regression model, the best-performing Ridge model, and the best-performing Lasso model: `linreg_r_2_train, linreg_r_2_test, best_ridgereg_r_2_train, best_ridgereg_r_2_test, best_lassoreg_r_2_train, best_lassoreg_r_2_test)`."
   ]
  },
  {
   "cell_type": "code",
   "execution_count": 11,
   "metadata": {
    "scrolled": true
   },
   "outputs": [
    {
     "name": "stdout",
     "output_type": "stream",
     "text": [
      "R-squared score of Linear Regression (train): 1.000\n",
      "R-squared score of Linear Regression (test): 0.104\n",
      "R-squared score of Ridge Regression (train): 1.000\n",
      "R-squared score of Ridge Regression (test): 0.156\n",
      "R-squared score of Lasso Regression (train): 0.961\n",
      "R-squared score of Lasso Regression (test): 0.617\n"
     ]
    },
    {
     "data": {
      "text/plain": [
       "(1.0,\n",
       " 0.10400006881135115,\n",
       " 0.9999539315772671,\n",
       " 0.15590690938809149,\n",
       " 0.9612569688756333,\n",
       " 0.6167402758942504)"
      ]
     },
     "execution_count": 11,
     "metadata": {},
     "output_type": "execute_result"
    }
   ],
   "source": [
    "from sklearn.linear_model import Lasso, Ridge, LinearRegression\n",
    "\n",
    "def answer_five_compare():\n",
    "    \n",
    "    standardized_X_poly_train, standardized_X_poly_test, y_poly_train, y_poly_test = answer_five_split_standardize()\n",
    "    \n",
    "    alpha_list = [0.01, 0.1, 1, 2, 3, 5, 10, 50, 100, 200]\n",
    "        \n",
    "    # -------------------- Linear Regression ----------------\n",
    "    linreg= LinearRegression().fit(standardized_X_poly_train,y_poly_train)\n",
    "    linreg_r_2_train = linreg.score(standardized_X_poly_train, y_poly_train)\n",
    "    linreg_r_2_test = linreg.score(standardized_X_poly_test, y_poly_test)\n",
    "    \n",
    "    print('R-squared score of Linear Regression (train): {:.3f}'.format(linreg_r_2_train))    \n",
    "    print('R-squared score of Linear Regression (test): {:.3f}'.format(linreg_r_2_test))      \n",
    "    \n",
    "    \n",
    "    # -------------------- Ridge ---------------------------\n",
    "    r2_train_ridge = []\n",
    "    r2_test_ridge = []\n",
    "    for alpha in alpha_list:\n",
    "        linridge = Ridge(alpha = alpha)\n",
    "        linridge.fit(standardized_X_poly_train, y_poly_train)\n",
    "        r2_train_ridge.append(linridge.score(standardized_X_poly_train, y_poly_train))\n",
    "        r2_test_ridge.append(linridge.score(standardized_X_poly_test, y_poly_test))\n",
    "    \n",
    "    best_ridgereg_r_2_train = max(r2_train_ridge)\n",
    "    index= r2_train_ridge.index(max(r2_train_ridge))\n",
    "    best_ridgereg_r_2_test = r2_test_ridge[index]\n",
    "    \n",
    "    print('R-squared score of Ridge Regression (train): {:.3f}'.format(best_ridgereg_r_2_train))\n",
    "    print('R-squared score of Ridge Regression (test): {:.3f}'.format(best_ridgereg_r_2_test))\n",
    "        \n",
    "    # -------------------- Lasso ---------------------------\n",
    "    r2_train_lasso = []\n",
    "    r2_test_lasso = []\n",
    "    for alpha in alpha_list:\n",
    "        linlasso = Lasso(alpha).fit(standardized_X_poly_train, y_poly_train)\n",
    "        r2_train_lasso.append(linlasso.score(standardized_X_poly_train, y_poly_train))\n",
    "        r2_test_lasso.append(linlasso.score(standardized_X_poly_test, y_poly_test))\n",
    "        \n",
    "    best_lassoreg_r_2_train = max(r2_train_lasso)\n",
    "    index= r2_train_lasso.index(max(r2_train_lasso))\n",
    "    best_lassoreg_r_2_test = r2_test_lasso[index]\n",
    "    \n",
    "        \n",
    "    print('R-squared score of Lasso Regression (train): {:.3f}'.format(best_lassoreg_r_2_train))\n",
    "    print('R-squared score of Lasso Regression (test): {:.3f}'.format(best_lassoreg_r_2_test))\n",
    "    \n",
    "    \n",
    "    return (linreg_r_2_train, linreg_r_2_test, best_ridgereg_r_2_train, best_ridgereg_r_2_test, \n",
    "            best_lassoreg_r_2_train, best_lassoreg_r_2_test)\n",
    "answer_five_compare()"
   ]
  }
 ],
 "metadata": {
  "anaconda-cloud": {},
  "colab": {
   "collapsed_sections": [],
   "name": "si670f19_lab_2_ans.ipynb",
   "provenance": [],
   "version": "0.3.2"
  },
  "kernelspec": {
   "display_name": "Python 3",
   "language": "python",
   "name": "python3"
  },
  "language_info": {
   "codemirror_mode": {
    "name": "ipython",
    "version": 3
   },
   "file_extension": ".py",
   "mimetype": "text/x-python",
   "name": "python",
   "nbconvert_exporter": "python",
   "pygments_lexer": "ipython3",
   "version": "3.7.1"
  }
 },
 "nbformat": 4,
 "nbformat_minor": 1
}
