{
  "nbformat": 4,
  "nbformat_minor": 0,
  "metadata": {
    "anaconda-cloud": {},
    "colab": {
      "name": "si670f20_hw_2-mzanaj.ipynb",
      "provenance": [],
      "collapsed_sections": []
    },
    "kernelspec": {
      "display_name": "Python 3",
      "language": "python",
      "name": "python3"
    },
    "language_info": {
      "codemirror_mode": {
        "name": "ipython",
        "version": 3
      },
      "file_extension": ".py",
      "mimetype": "text/x-python",
      "name": "python",
      "nbconvert_exporter": "python",
      "pygments_lexer": "ipython3",
      "version": "3.7.4"
    }
  },
  "cells": [
    {
      "cell_type": "markdown",
      "metadata": {
        "colab_type": "text",
        "id": "OWTe9VS3_b11"
      },
      "source": [
        "## Name: Martin Zanaj\n",
        "### SI 670 Applied Machine Learning, Week 2:  Basic supervised learning concepts (Due 09/21 11:59pm)\n",
        "\n",
        "For this assignment, you will be exercising on questions related to linear regression, polynomial feature expansion, underfitting/overfitting, and cross-validation.\n",
        "\n",
        "There are six questions, for a total of 100 points. Correct answers and code receive full credit, but partial credit will be awarded if you have the right idea even if your final answers aren't quite right.\n",
        "\n",
        "Submit your completed notebook file to the Canvas site - IMPORTANT: please name your submitted file si670-hw2-youruniqname.ipynb and be sure to put your name at the top of your notebook file.\n",
        "\n",
        "As a reminder, the notebook code you submit must be your own work. Feel free to discuss general approaches to the homework with classmates: if you end up forming more of a team discussion on multiple questions, please include the names of the people you worked with at the top of your notebook file."
      ]
    },
    {
      "cell_type": "markdown",
      "metadata": {
        "colab_type": "text",
        "id": "-_pUE4abw2eQ"
      },
      "source": [
        "### Preliminary\n",
        "First, run the following block to set up the variables needed for later sections."
      ]
    },
    {
      "cell_type": "code",
      "metadata": {
        "colab_type": "code",
        "id": "GgCMWqV35I6z",
        "colab": {
          "base_uri": "https://localhost:8080/",
          "height": 265
        },
        "outputId": "e4565dc8-9422-4bef-91cb-51245d1cee93"
      },
      "source": [
        "import numpy as np\n",
        "import pandas as pd\n",
        "from sklearn.model_selection import train_test_split\n",
        "\n",
        "\n",
        "np.random.seed(0)\n",
        "n = 30\n",
        "x = np.linspace(0, 10, n) + np.random.randn(n) / 5\n",
        "y = np.sin(x) + x / 4 + np.random.randn(n) / 3\n",
        "\n",
        "\n",
        "X_train, X_test, y_train, y_test = train_test_split(x, y, random_state=0)\n",
        "\n",
        "# You can use this function to help you visualize the dataset by\n",
        "# plotting a scatterplot of the data points\n",
        "# in the training and test sets.\n",
        "def part1_scatter():\n",
        "    import matplotlib.pyplot as plt\n",
        "    %matplotlib inline\n",
        "    plt.figure()\n",
        "    plt.scatter(X_train, y_train, label='training data')\n",
        "    plt.scatter(X_test, y_test, label='test data')\n",
        "    plt.legend(loc=4);\n",
        "    \n",
        "    \n",
        "part1_scatter()"
      ],
      "execution_count": null,
      "outputs": [
        {
          "output_type": "display_data",
          "data": {
            "image/png": "[encoded data removed]",
            "text/plain": [
              "<Figure size 432x288 with 1 Axes>"
            ]
          },
          "metadata": {
            "tags": [],
            "needs_background": "light"
          }
        }
      ]
    },
    {
      "cell_type": "markdown",
      "metadata": {
        "colab_type": "text",
        "id": "itE2L8t4w2ee"
      },
      "source": [
        "### Question 1 (20 points)\n",
        "\n",
        "Write a function that fits a polynomial LinearRegression model on the *training data* `X_train` for degrees 1, 3, 6, and 9. (Use PolynomialFeatures in sklearn.preprocessing to create the polynomial features and then fit a linear regression model) For each model, find 100 predicted values over the interval x = 0 to 10 (e.g. `np.linspace(0,10,100)`) and store this in a numpy array. The first row of this array should correspond to the output from the model trained on degree 1, the second row degree 3, the third row degree 6, and the fourth row degree 9.\n",
        "\n",
        "<img src=\"si670f18_assn2_q1.png\" style=\"width: 200px;\"/>\n",
        "\n",
        "The figure above shows the fitted models plotted on top of the original data (using `plot_one()`).\n",
        "\n",
        "<br>\n",
        "*This function should return a numpy array with shape `(4, 100)`*"
      ]
    },
    {
      "cell_type": "code",
      "metadata": {
        "colab_type": "code",
        "id": "PKVGlu1o5I67",
        "colab": {
          "base_uri": "https://localhost:8080/",
          "height": 1000
        },
        "outputId": "ec981dad-d901-44f1-b23d-0c111a506a54"
      },
      "source": [
        "def answer_one():  \n",
        "    from sklearn.linear_model import LinearRegression\n",
        "    from sklearn.preprocessing import PolynomialFeatures\n",
        "\n",
        "    # Perhaps, a for loop would have been better\n",
        "    #Polynomial expansion\n",
        "    poly1 = PolynomialFeatures(degree=1)\n",
        "    poly3 = PolynomialFeatures(degree=3)\n",
        "    poly6 = PolynomialFeatures(degree=6)\n",
        "    poly9 = PolynomialFeatures(degree=9)\n",
        "\n",
        "    #Applying standardization & reshaping(was giving an error!)\n",
        "    X_train1 = poly1.fit_transform(X_train.reshape(-1, 1))\n",
        "    X_train3 = poly3.fit_transform(X_train.reshape(-1, 1))\n",
        "    X_train6 = poly6.fit_transform(X_train.reshape(-1, 1))\n",
        "    X_train9 = poly9.fit_transform(X_train.reshape(-1, 1))\n",
        "\n",
        "    #Fit the model\n",
        "    linreg1 = LinearRegression().fit(X_train1, y_train)\n",
        "    linreg3 = LinearRegression().fit(X_train3, y_train)\n",
        "    linreg6 = LinearRegression().fit(X_train6, y_train)\n",
        "    linreg9 = LinearRegression().fit(X_train9, y_train)\n",
        "\n",
        "    #Test data on 100 x=0 , x=10\n",
        "    test_data1= poly1.fit_transform(np.linspace(0,10,100).reshape(-1,1))\n",
        "    test_data3= poly3.fit_transform(np.linspace(0,10,100).reshape(-1,1))\n",
        "    test_data6= poly6.fit_transform(np.linspace(0,10,100).reshape(-1,1))\n",
        "    test_data9= poly9.fit_transform(np.linspace(0,10,100).reshape(-1,1))\n",
        "\n",
        "    #Prediction\n",
        "    y_pred1 = linreg1.predict(test_data1)\n",
        "    y_pred3 = linreg3.predict(test_data3)\n",
        "    y_pred6 = linreg6.predict(test_data6)\n",
        "    y_pred9 = linreg9.predict(test_data9)\n",
        "\n",
        "    #Reshape into 1 x 100\n",
        "    y_pred1=y_pred1.reshape(1,100)\n",
        "    y_pred3=y_pred3.reshape(1,100)\n",
        "    y_pred6=y_pred6.reshape(1,100)\n",
        "    y_pred9=y_pred9.reshape(1,100)\n",
        "\n",
        "    #Put all the different numpy arrays in one matrix\n",
        "    res= np.zeros(shape=(4,100))\n",
        "    res[0]= y_pred1\n",
        "    res[1]= y_pred3\n",
        "    res[2]= y_pred6\n",
        "    res[3]= y_pred9\n",
        "\n",
        "    return res\n",
        "\n",
        "answer_one()"
      ],
      "execution_count": null,
      "outputs": [
        {
          "output_type": "execute_result",
          "data": {
            "text/plain": [
              "array([[ 0.60560647,  0.62384827,  0.64209007,  0.66033187,  0.67857367,\n",
              "         0.69681547,  0.71505727,  0.73329907,  0.75154087,  0.76978267,\n",
              "         0.78802447,  0.80626626,  0.82450806,  0.84274986,  0.86099166,\n",
              "         0.87923346,  0.89747526,  0.91571706,  0.93395886,  0.95220066,\n",
              "         0.97044246,  0.98868425,  1.00692605,  1.02516785,  1.04340965,\n",
              "         1.06165145,  1.07989325,  1.09813505,  1.11637685,  1.13461865,\n",
              "         1.15286045,  1.17110225,  1.18934404,  1.20758584,  1.22582764,\n",
              "         1.24406944,  1.26231124,  1.28055304,  1.29879484,  1.31703664,\n",
              "         1.33527844,  1.35352024,  1.37176204,  1.39000383,  1.40824563,\n",
              "         1.42648743,  1.44472923,  1.46297103,  1.48121283,  1.49945463,\n",
              "         1.51769643,  1.53593823,  1.55418003,  1.57242183,  1.59066362,\n",
              "         1.60890542,  1.62714722,  1.64538902,  1.66363082,  1.68187262,\n",
              "         1.70011442,  1.71835622,  1.73659802,  1.75483982,  1.77308162,\n",
              "         1.79132341,  1.80956521,  1.82780701,  1.84604881,  1.86429061,\n",
              "         1.88253241,  1.90077421,  1.91901601,  1.93725781,  1.95549961,\n",
              "         1.9737414 ,  1.9919832 ,  2.010225  ,  2.0284668 ,  2.0467086 ,\n",
              "         2.0649504 ,  2.0831922 ,  2.101434  ,  2.1196758 ,  2.1379176 ,\n",
              "         2.1561594 ,  2.17440119,  2.19264299,  2.21088479,  2.22912659,\n",
              "         2.24736839,  2.26561019,  2.28385199,  2.30209379,  2.32033559,\n",
              "         2.33857739,  2.35681919,  2.37506098,  2.39330278,  2.41154458],\n",
              "       [ 2.00636124,  1.93729294,  1.87048181,  1.80590991,  1.74355933,\n",
              "         1.68341216,  1.62545048,  1.56965637,  1.51601192,  1.4644992 ,\n",
              "         1.41510031,  1.36779733,  1.32257234,  1.27940742,  1.23828465,\n",
              "         1.19918613,  1.16209393,  1.12699013,  1.09385683,  1.0626761 ,\n",
              "         1.03343003,  1.0061007 ,  0.98067019,  0.95712059,  0.93543399,\n",
              "         0.91559245,  0.89757808,  0.88137294,  0.86695913,  0.85431873,\n",
              "         0.84343382,  0.83428649,  0.82685881,  0.82113288,  0.81709077,\n",
              "         0.81471457,  0.81398636,  0.81488823,  0.81740226,  0.82151053,\n",
              "         0.82719513,  0.83443814,  0.84322164,  0.85352771,  0.86533845,\n",
              "         0.87863593,  0.89340223,  0.90961945,  0.92726966,  0.94633494,\n",
              "         0.96679739,  0.98863908,  1.0118421 ,  1.03638853,  1.06226045,\n",
              "         1.08943995,  1.11790911,  1.14765002,  1.17864476,  1.2108754 ,\n",
              "         1.24432404,  1.27897276,  1.31480364,  1.35179877,  1.38994022,\n",
              "         1.42921009,  1.46959045,  1.5110634 ,  1.553611  ,  1.59721535,\n",
              "         1.64185853,  1.68752262,  1.73418971,  1.78184187,  1.8304612 ,\n",
              "         1.88002978,  1.93052969,  1.98194301,  2.03425182,  2.08743822,\n",
              "         2.14148428,  2.19637209,  2.25208373,  2.30860128,  2.36590683,\n",
              "         2.42398246,  2.48281025,  2.5423723 ,  2.60265067,  2.66362746,\n",
              "         2.72528474,  2.78760461,  2.85056914,  2.91416042,  2.97836054,\n",
              "         3.04315156,  3.10851559,  3.1744347 ,  3.24089097,  3.3078665 ],\n",
              "       [ 0.09761187,  0.34315705,  0.56971835,  0.77701833,  0.96493418,\n",
              "         1.13348674,  1.28282972,  1.41323927,  1.52510376,  1.61891393,\n",
              "         1.69525329,  1.75478876,  1.79826172,  1.82647919,  1.84030545,\n",
              "         1.84065382,  1.8284788 ,  1.80476849,  1.77053725,  1.72681875,\n",
              "         1.67465914,  1.61511069,  1.5492256 ,  1.47805013,  1.402619  ,\n",
              "         1.32395013,  1.24303959,  1.16085692,  1.07834064,  0.99639417,\n",
              "         0.91588188,  0.83762559,  0.76240126,  0.69093595,  0.62390516,\n",
              "         0.56193038,  0.50557693,  0.45535213,  0.41170371,  0.37501858,\n",
              "         0.34562176,  0.32377573,  0.30967999,  0.30347094,  0.30522199,\n",
              "         0.31494409,  0.33258634,  0.3580371 ,  0.39112526,  0.43162181,\n",
              "         0.47924174,  0.53364618,  0.59444487,  0.66119889,  0.73342368,\n",
              "         0.81059233,  0.89213921,  0.97746384,  1.06593506,  1.15689547,\n",
              "         1.24966619,  1.34355192,  1.43784619,  1.53183702,  1.62481279,\n",
              "         1.71606843,  1.80491186,  1.89067077,  1.97269965,  2.0503871 ,\n",
              "         2.12316348,  2.19050877,  2.25196077,  2.30712358,  2.35567635,\n",
              "         2.39738236,  2.43209828,  2.45978389,  2.4805119 ,  2.49447818,\n",
              "         2.50201228,  2.50358811,  2.49983508,  2.4915494 ,  2.47970571,\n",
              "         2.46546901,  2.45020686,  2.43550185,  2.42316441,  2.41524585,\n",
              "         2.41405171,  2.4221554 ,  2.44241215,  2.47797317,  2.53230021,\n",
              "         2.60918027,  2.71274075,  2.84746476,  3.01820676,  3.23020853],\n",
              "       [-0.80109209, -0.07282668,  0.47123902,  0.86977557,  1.15508294,\n",
              "         1.35386357,  1.4879294 ,  1.57484632,  1.62852004,  1.65972658,\n",
              "         1.67659099,  1.68501743,  1.68907386,  1.69133431,  1.69318166,\n",
              "         1.6950738 ,  1.6967757 ,  1.69756022,  1.69637988,  1.69201217,\n",
              "         1.68318048,  1.66865301,  1.6473215 ,  1.61826201,  1.58077931,\n",
              "         1.5344369 ,  1.47907424,  1.41481274,  1.34205212,  1.26145833,\n",
              "         1.17394472,  1.08064723,  0.98289518,  0.88217848,  0.78011233,\n",
              "         0.67840033,  0.5787969 ,  0.48306958,  0.39296224,  0.31015949,\n",
              "         0.23625305,  0.17271059,  0.12084727,  0.08180064,  0.05650896,\n",
              "         0.04569327,  0.04984351,  0.06920868,  0.10379111,  0.15334509,\n",
              "         0.2173796 ,  0.29516514,  0.3857447 ,  0.48794846,  0.60041226,\n",
              "         0.72159949,  0.84982603,  0.98328822,  1.12009315,  1.25829116,\n",
              "         1.39591005,  1.53099048,  1.66162223,  1.78598076,  1.90236348,\n",
              "         2.00922531,  2.10521296,  2.18919718,  2.26030265,  2.31793464,\n",
              "         2.36180202,  2.39193582,  2.40870288,  2.41281369,  2.40532401,\n",
              "         2.38762942,  2.36145232,  2.32882046,  2.29203661,  2.25363849,\n",
              "         2.21634849,  2.18301239,  2.15652644,  2.13975235,  2.13541934,\n",
              "         2.14601281,  2.17364895,  2.21993482,  2.28581326,  2.37139215,\n",
              "         2.47575747,  2.59676982,  2.73084374,  2.87270958,  3.01515747,\n",
              "         3.14876302,  3.26159443,  3.33890076,  3.36278106,  3.31183418]])"
            ]
          },
          "metadata": {
            "tags": []
          },
          "execution_count": 56
        }
      ]
    },
    {
      "cell_type": "code",
      "metadata": {
        "colab_type": "code",
        "id": "5X96gn265I7B",
        "colab": {
          "base_uri": "https://localhost:8080/",
          "height": 324
        },
        "outputId": "a43773dc-3b0d-4efa-e969-80bdb5fe8bd8"
      },
      "source": [
        "# feel free to use the function plot_one() to replicate the figure \n",
        "# from the prompt once you have completed question one\n",
        "def plot_one(degree_predictions):\n",
        "    import matplotlib.pyplot as plt\n",
        "    %matplotlib inline\n",
        "    plt.figure(figsize=(10,5))\n",
        "    plt.plot(X_train, y_train, 'o', label='training data', markersize=10)\n",
        "    plt.plot(X_test, y_test, 'o', label='test data', markersize=10)\n",
        "    for i,degree in enumerate([1,3,6,9]):\n",
        "        plt.plot(np.linspace(0,10,100), degree_predictions[i], alpha=0.8, lw=2, label='degree={}'.format(degree))\n",
        "    plt.ylim(-1,3.5)\n",
        "    plt.legend(loc=4)\n",
        "\n",
        "plot_one(answer_one())"
      ],
      "execution_count": null,
      "outputs": [
        {
          "output_type": "display_data",
          "data": {
            "image/png": "[encoded data removed]",
            "text/plain": [
              "<Figure size 720x360 with 1 Axes>"
            ]
          },
          "metadata": {
            "tags": [],
            "needs_background": "light"
          }
        }
      ]
    },
    {
      "cell_type": "markdown",
      "metadata": {
        "colab_type": "text",
        "id": "0IVe98Cq5I7K"
      },
      "source": [
        "### Question 2 (20 points)\n",
        "\n",
        "Write a function that fits a polynomial LinearRegression model on the training data `X_train` for degrees 0 through 9. For each model compute the $R^2$ (coefficient of determination) regression score on the training data as well as the the test data, and return both of these arrays in a tuple.\n",
        "\n",
        "Based on the $R^2$ scores above (degree levels 0 through 9), what degree level corresponds to a model that is underfitting? What degree level corresponds to a model that is overfitting? What choice of degree level would provide a model with good generalization performance on this dataset? Note: there may be multiple correct solutions to this question.\n",
        "\n",
        "(Hint: you can plot the r2_train and r2_test vs the degree to investigate underfitting/overfitting.)\n",
        "\n",
        "*This function should return one tuple of numpy arrays `(r2_train, r2_test, Underfitting, Good_Generalization, Overfitting)`, where both `r2_train` and `r2_test` should have shape `(10,)`, and `Underfitting, Good_Generalization, Overfitting` should be three lists of int partitioning 0-9.*"
      ]
    },
    {
      "cell_type": "code",
      "metadata": {
        "colab_type": "code",
        "id": "jcFeV-KF5I7L",
        "colab": {
          "base_uri": "https://localhost:8080/",
          "height": 410
        },
        "outputId": "7eb6aadf-a909-467d-cbf4-285d094fff14"
      },
      "source": [
        "np.random.seed(0)\n",
        "n = 100\n",
        "x = np.linspace(0, 10, n) + np.random.randn(n) / 5\n",
        "y = np.sin(x) + x / 4 + np.random.randn(n) \n",
        "X_train, X_test, y_train, y_test = train_test_split(x, y, random_state=0)\n",
        "\n",
        "#X_train, X_test, y_train, y_test = train_test_split(x, y, random_state=0)\n",
        "def answer_two():\n",
        "\n",
        "    from sklearn.linear_model import LinearRegression\n",
        "    from sklearn.preprocessing import PolynomialFeatures\n",
        "    \n",
        "    r2_train = np.zeros(shape=(10))\n",
        "    r2_test = np.zeros(shape=(10))\n",
        "   \n",
        "    # Perhaps, a for loop would have been better\n",
        "    #Polynomial expansion\n",
        "    for degree in range(0,10):\n",
        "      poly = PolynomialFeatures(degree=degree)\n",
        "      \n",
        "      #Applying standardization & reshaping(was giving an error!)\n",
        "      X_train_poly = poly.fit_transform(X_train.reshape(-1, 1))\n",
        "\n",
        "      X_test_poly = poly.fit_transform(X_test.reshape(-1,1))\n",
        "  \n",
        "      #Fit the model\n",
        "      linreg = LinearRegression().fit(X_train_poly, y_train)\n",
        "\n",
        "      #Prediction\n",
        "      y_pred = linreg.predict(X_train_poly)\n",
        "\n",
        "      #Score\n",
        "      training_score = linreg.score(X_train_poly, y_train)\n",
        "      testing_score = linreg.score(X_test_poly, y_test)\n",
        "      \n",
        "      r2_train[degree]= training_score\n",
        "      r2_test[degree] = testing_score\n",
        "\n",
        "      #These were found by looking at the plot below, the results were consistent over multiple trials.Hence, hard coded.\n",
        "      Underfitting= [1,2,3,4,5]\n",
        "      Good_Generalization=[6]\n",
        "      Overfitting=[7,8]\n",
        "  \n",
        "    return (r2_train, r2_test, Underfitting, Good_Generalization, Overfitting)\n",
        "\n",
        "#Checking the plot \n",
        "train, test,a,b,c = answer_two()\n",
        "df = range(0,10)\n",
        "import matplotlib.pyplot as plt\n",
        "\n",
        "_=plt.plot(df,train, label = 'training')\n",
        "_=plt.plot(df,test, label='testing')\n",
        "_=plt.title('Overfitting vs Underfitting', fontweight='bold')\n",
        "_=plt.legend(loc='best')\n",
        "answer_two()"
      ],
      "execution_count": null,
      "outputs": [
        {
          "output_type": "execute_result",
          "data": {
            "text/plain": [
              "(array([0.        , 0.15514354, 0.3011655 , 0.302982  , 0.35939824,\n",
              "        0.41325992, 0.4210382 , 0.43027673, 0.44853093, 0.44881874]),\n",
              " array([-0.0100538 ,  0.03783857, -0.0017643 ,  0.0092585 ,  0.18206459,\n",
              "         0.38656176,  0.41440929,  0.3511819 ,  0.26126248,  0.24989269]),\n",
              " [1, 2, 3, 4, 5],\n",
              " [6],\n",
              " [7, 8])"
            ]
          },
          "metadata": {
            "tags": []
          },
          "execution_count": 59
        },
        {
          "output_type": "display_data",
          "data": {
            "image/png": "[encoded data removed]",
            "text/plain": [
              "<Figure size 432x288 with 1 Axes>"
            ]
          },
          "metadata": {
            "tags": [],
            "needs_background": "light"
          }
        }
      ]
    },
    {
      "cell_type": "markdown",
      "metadata": {
        "colab_type": "text",
        "id": "B_LhuE395I7Q"
      },
      "source": [
        "### Question 3 (10 points)\n",
        "\n",
        "This question asks you to explore the influence of varying the training size proportion on the model's performance. Specifically, we hope you adopt the  train_size parameter in train_test_split function. \n",
        "\n",
        "Please use a for loop to repeat the following steps with `train_size` varying from `[0.1, 0.2, 0.3, 0.4, 0.5, 0.6, 0.7, 0.8, 0.9]`:\n",
        "1. Generate synthetic data `(X_F1, y_F1)` using `make_friedman1` with `n_samples=1000, n_features=5, random_state=0`;\n",
        "2. Apply `train_test_split` to split the generated synthetic data and got your `X_train, X_test, y_train, y_test` correspondingly. Please set `random_state=0` in`train_test_split` function to generate the data. \n",
        "3. Create a `LinearRegression` model\n",
        "4. For each model compute the $R^2$ (coefficient of determination) regression score. \n",
        "\n",
        "Store the $R^2$ of each model in list `r_squared` and return the list. Do you see the $R^2$ increasing or decreasing? And why? \n",
        "\n",
        "*This function should return a list `r_squared`, with length 9.*\n"
      ]
    },
    {
      "cell_type": "code",
      "metadata": {
        "colab_type": "code",
        "id": "PWhjUbh65I7R",
        "colab": {
          "base_uri": "https://localhost:8080/",
          "height": 182
        },
        "outputId": "4054a656-86fb-42c0-8e5e-b1a8f4f64092"
      },
      "source": [
        "def answer_three():\n",
        "    from sklearn.datasets import make_friedman1\n",
        "    from sklearn.linear_model import LinearRegression\n",
        "    from sklearn.model_selection import cross_val_score\n",
        "    from sklearn.model_selection import train_test_split\n",
        "    \n",
        "    r_squared = []\n",
        "    for train_size in [0.1, 0.2, 0.3, 0.4, 0.5, 0.6, 0.7, 0.8, 0.9]:\n",
        "        # Data set\n",
        "        X_F1, y_F1 = make_friedman1(n_samples=1000, n_features = 5, random_state=0)\n",
        "\n",
        "        #Split data train/test\n",
        "        X_train, X_test, y_train, y_test = train_test_split(X_F1, y_F1, random_state=0, train_size=train_size)\n",
        "\n",
        "        #Linear regression model\n",
        "        linreg = LinearRegression().fit(X_train, y_train)\n",
        "        \n",
        "        #R^2\n",
        "        r_squared.append(linreg.score(X_test,y_test))\n",
        "\n",
        "    \n",
        "    return r_squared\n",
        "'''As we increase the train size, our R^2 score increases as well given that we are putting more and more points in training the model. More points\n",
        "Means better fit. But one of the drawbacks is that we might have no way of knowing whether our model will perform poorly on future observations (overfit). \n",
        "Hence, a better alternative in which we can use all points, and still retain realistics results would be to use cross-validation. '''\n",
        "answer_three()"
      ],
      "execution_count": null,
      "outputs": [
        {
          "output_type": "execute_result",
          "data": {
            "text/plain": [
              "[0.738413532493281,\n",
              " 0.7392569010143397,\n",
              " 0.7513848505116703,\n",
              " 0.745987907340038,\n",
              " 0.7662066366447912,\n",
              " 0.7760430184222654,\n",
              " 0.7558631122685722,\n",
              " 0.7797378250939616,\n",
              " 0.7922372391817742]"
            ]
          },
          "metadata": {
            "tags": []
          },
          "execution_count": 60
        }
      ]
    },
    {
      "cell_type": "markdown",
      "metadata": {
        "colab_type": "text",
        "id": "QngclMpn5I7X"
      },
      "source": [
        "### Question 4 (20 points)\n",
        "\n",
        "This question asks you to compare the Linear Regression model and KNN Regression model. As you know, choosing the k in k-NN Regression model affects the prediction accuracy. In this question, train k-NN classifiers with `k = 1,2,...,5` (similar to HW1 Q5) and report the best performance of KNN Regression and Linear Regression. \n",
        "\n",
        "In this question we will fix the `train_size = 0.8`, you'll need to the following things:\n",
        "1. Generate synthetic data `(X_F1, y_F1)` using `make_friedman1` with `n_samples=10000, n_features=10, random_state=0`;\n",
        "2. Apply `train_test_split` to split the generated synthetic data and got your `X_train, X_test, y_train, y_test` correspondingly.Set `random_state=0` in`train_test_split` function to generate the data. \n",
        "3. Create a `LinearRegression` model and get its performenace.\n",
        "4. Create a `KNeighborsRegressor` model and get the performance when `k = 1,5, 10, 15, 205`\n",
        "5. Return the an array with 6 items: the first being the  `LinearRegression` model's $R^2$ and next 5 the `KNeighborsRegressor` models' $R^2$\n",
        "\n",
        "*This function should return an array with 6 numbers.*\n",
        "\n",
        "Which classifier performed the best?  Using the ideas from class, what could explain these results? "
      ]
    },
    {
      "cell_type": "code",
      "metadata": {
        "colab_type": "code",
        "id": "0Wlq8cKY5I7Y",
        "colab": {
          "base_uri": "https://localhost:8080/",
          "height": 127
        },
        "outputId": "daffb7cc-bf3b-4f3e-a577-73d65a84bb20"
      },
      "source": [
        "def answer_four():\n",
        "    from sklearn.datasets import make_friedman1\n",
        "    from sklearn.linear_model import LinearRegression\n",
        "    from sklearn.model_selection import cross_val_score\n",
        "    from sklearn.model_selection import train_test_split\n",
        "    from sklearn.neighbors import KNeighborsRegressor\n",
        "    \n",
        "    scores = []\n",
        "    k_range = [1,5, 10, 15, 205]\n",
        "\n",
        "    # Data set\n",
        "    X_F1, y_F1 = make_friedman1(n_samples=10000, n_features = 10, random_state=0)\n",
        "\n",
        "    #Split data train/test\n",
        "    X_train, X_test, y_train, y_test = train_test_split(X_F1, y_F1, random_state=0, train_size=0.80)\n",
        "\n",
        "    #Linear reg model\n",
        "    linreg= LinearRegression().fit(X_train, y_train)\n",
        "\n",
        "    #Accuracy\n",
        "    scores.append(linreg.score(X_test, y_test))\n",
        "\n",
        "    for range in k_range:\n",
        "      #KNN model\n",
        "      knn = KNeighborsRegressor(n_neighbors=range).fit(X_train, y_train)\n",
        "\n",
        "      #Accuracy\n",
        "      scores.append(knn.score(X_test, y_test))\n",
        "    return scores\n",
        "'''The best performing model seems to be coming from the KNN regression with k=10. Altough, k=10 & k=15 yiled similar results, I picked the k=10\n",
        "as the best favoring simplicity given not too much difference betweent the two accuracies. The main reason why KNN regression outperformed the linear one\n",
        "could be the huge amount of data points that our training models has (10000). Also, given that KNN is non-parametric (no imposed strucutre on data), it could\n",
        "be picking possible non-linear relationships in the predictor space.'''\n",
        "answer_four()\n"
      ],
      "execution_count": null,
      "outputs": [
        {
          "output_type": "execute_result",
          "data": {
            "text/plain": [
              "[0.7430653473594293,\n",
              " 0.667995745956579,\n",
              " 0.8428177919919696,\n",
              " 0.8554736492383892,\n",
              " 0.8536243420979374,\n",
              " 0.7354516334161025]"
            ]
          },
          "metadata": {
            "tags": []
          },
          "execution_count": 61
        }
      ]
    },
    {
      "cell_type": "markdown",
      "metadata": {
        "colab_type": "text",
        "id": "2heKrGjm5I7e"
      },
      "source": [
        "### Question 5 (20 points)\n",
        "\n",
        "From Question 1 and 2 we have seen that we need to be careful when selecting the `degree` parameter of the polynomial feature expansion. These kind of parameters are ususally called \"hyper-parameters\" in machine learning. In this question, we will see how to make a good choice of the hyper-parameter(s). And when the dataset is small, cross validation can help us make a more reliable choice. \n",
        "\n"
      ]
    },
    {
      "cell_type": "code",
      "metadata": {
        "colab_type": "code",
        "id": "LRTqgtuf5I7f",
        "colab": {
          "base_uri": "https://localhost:8080/",
          "height": 72
        },
        "outputId": "feb928dc-12fe-42bb-d51a-a3c794546f74"
      },
      "source": [
        "def answer_five():\n",
        "    import numpy as np\n",
        "    from sklearn.datasets import make_friedman3\n",
        "    from sklearn.model_selection import train_test_split\n",
        "    from sklearn.linear_model import LinearRegression\n",
        "    from sklearn.preprocessing import PolynomialFeatures\n",
        "    from sklearn.model_selection import cross_val_score\n",
        "\n",
        "    # generate dta\n",
        "    X_F3_train, y_F3_train = make_friedman3(n_samples=100, random_state=0)  # training set\n",
        "    X_F3_test, y_F3_test = make_friedman3(n_samples=500, random_state=1)  # hold-out test set\n",
        "\n",
        "    r2_cv = []\n",
        "    r2_one_split = []\n",
        "    for d in range(1, 6):\n",
        "        \n",
        "        #Transform `X_F3_train` to `X_F3_train_trans` using `PolynomialFeatures` with `degree=d`\n",
        "        X_F3_train_trans = PolynomialFeatures(degree=d).fit_transform(X_F3_train)\n",
        "\n",
        "        # train and evaluate with one split\n",
        "        X_train, X_valid, y_train, y_valid = train_test_split(X_F3_train_trans, y_F3_train, random_state=0, test_size=0.1)\n",
        "        linreg = LinearRegression().fit(X_train, y_train)\n",
        "        r2_one_split.append(linreg.score(X_valid, y_valid))\n",
        "\n",
        "        # train and evaluate with cross validation\n",
        "        linreg = LinearRegression()\n",
        "\n",
        "        #Get `cv_scores` by applying `cross_val_score` on `linreg, X_F3_train_trans, y_F3_train` with `cv=10`\n",
        "        cv_scores=cross_val_score(linreg, X_F3_train_trans, y_F3_train, cv=10)\n",
        "        r2_cv.append(np.mean(cv_scores))\n",
        "\n",
        "    # evalutate on the hold-out test set\n",
        "    d_one_split = np.argmax(r2_one_split)+1  # get the best degree on the one-split validation set\n",
        "    poly = PolynomialFeatures(degree=d_one_split)\n",
        "    X_F3_train_trans = poly.fit_transform(X_F3_train)\n",
        "    linreg = LinearRegression().fit(X_F3_train_trans, y_F3_train)\n",
        "    X_F3_test_trans = poly.transform(X_F3_test)\n",
        "    score_one_split = linreg.score(X_F3_test_trans, y_F3_test)\n",
        "    print('One split:\\tDegree {}, R-squared score {:.3f}'\n",
        "         .format(d_one_split, linreg.score(X_F3_test_trans, y_F3_test)))\n",
        "\n",
        "    d_cv = np.argmax(r2_cv)+1  # get the best degree on the cross validation set\n",
        "    poly = PolynomialFeatures(degree=d_cv)\n",
        "    X_F3_train_trans = poly.fit_transform(X_F3_train)\n",
        "    linreg = LinearRegression().fit(X_F3_train_trans, y_F3_train)\n",
        "    X_F3_test_trans = poly.transform(X_F3_test)\n",
        "    score_cv = linreg.score(X_F3_test_trans, y_F3_test)\n",
        "    print('Cross Valid:\\tDegree {}, R-squared score {:.3f}'\n",
        "         .format(d_cv, linreg.score(X_F3_test_trans, y_F3_test)))\n",
        "    \n",
        "    return (d_one_split, score_one_split, d_cv, score_cv)\n",
        "\n",
        "answer_five()"
      ],
      "execution_count": null,
      "outputs": [
        {
          "output_type": "stream",
          "text": [
            "One split:\tDegree 3, R-squared score 0.239\n",
            "Cross Valid:\tDegree 2, R-squared score 0.751\n"
          ],
          "name": "stdout"
        },
        {
          "output_type": "execute_result",
          "data": {
            "text/plain": [
              "(3, 0.23923438205081637, 2, 0.7508642440825726)"
            ]
          },
          "metadata": {
            "tags": []
          },
          "execution_count": 62
        }
      ]
    },
    {
      "cell_type": "code",
      "metadata": {
        "colab_type": "code",
        "id": "hpidq4eP5I7k",
        "colab": {
          "base_uri": "https://localhost:8080/",
          "height": 35
        },
        "outputId": "3be62587-a1e0-4dce-fa83-2357c54c2088"
      },
      "source": [
        "### Question 6 (10 points)\n",
        "In class and in the lab, we have studied the polynomial feature expansion. In this question, we hope you to write out the polynomial features after expansion when given different number of features and different degrees. \n",
        "\n",
        "In this question, you need to answer the number of feature after polynomial feature expansion to a train data with 4 features with degree 2. Assumer the original features are [a, b, c, d], please tell us what the features are after polynomial feature expansion (order doesn't matter) and number of features. \n",
        "\n",
        "Bascially, you need to answer with a list containing [a, b, ...] representation the features after expansion and a number denoting the total number of features after expansion. \n",
        "\n",
        "*Note that we hope you calculate this question by hand, not use python*\n",
        "\n",
        "''' \n",
        "formula = (v+d)C(d) v = variables, d=degree --> 6C2 = 15\n",
        "[a,b,c,d]\n",
        "  [1]\n",
        "  [a,b,c,d]\n",
        "  [ab, ac, ad, bc, bd, cd]\n",
        "  [a^2, b^2, c^2, d^2]\n",
        "Hence, [1, a,b,c,d,ab, ac, ad, bc, bd, cd,a^2, b^2, c^2, d^2] with a total of 15 terms\n",
        "'''\n",
        "\n",
        "#Some code to confirm the results\n",
        "from sklearn.preprocessing import PolynomialFeatures\n",
        "import numpy as np\n",
        "#Features 4\n",
        "X = np.array([[1,1,3,4]])\n",
        "#Degree 2\n",
        "X_poly = PolynomialFeatures(degree=2).fit_transform(X)\n",
        "#Size 15\n",
        "(X_poly.size)"
      ],
      "execution_count": null,
      "outputs": [
        {
          "output_type": "execute_result",
          "data": {
            "text/plain": [
              "15"
            ]
          },
          "metadata": {
            "tags": []
          },
          "execution_count": 54
        }
      ]
    }
  ]
}