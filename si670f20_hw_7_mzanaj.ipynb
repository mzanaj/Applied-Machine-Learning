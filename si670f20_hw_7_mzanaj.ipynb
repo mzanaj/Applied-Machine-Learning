{
 "cells": [
  {
   "cell_type": "markdown",
   "metadata": {
    "id": "snEnoaKIHAo7"
   },
   "source": [
    "## SI 670 Applied Machine Learning, Homework 7: Deep Learning\n",
    "\n",
    "For this assignment, question 1 is worth 50 points, and question 2 is worth 40 points, for a total of 90 points. Correct answers and code receive full credit, but partial credit will be awarded if you have the right idea even if your final answers aren't quite right.\n",
    "\n",
    "Submit your completed notebook file AND corresponding **HTML** file to the Canvas site.\n",
    "\n",
    "As a reminder, the notebook code you submit must be your own work. Feel free to discuss general approaches to the homework with classmates: if you end up forming more of a team discussion on multiple questions, please include the names of the people you worked with at the top of your notebook file."
   ]
  },
  {
   "cell_type": "markdown",
   "metadata": {
    "id": "PuzKPRVbIZa4"
   },
   "source": [
    "### Put your name here: Martin Zanaj\n",
    "\n",
    "### Put your uniquename here: mzanaj"
   ]
  },
  {
   "cell_type": "markdown",
   "metadata": {
    "id": "-MoM5xcOIbQ4"
   },
   "source": [
    "### Question 1 Comparing ML with DL (50 points)\n",
    "\n",
    "In this question, we are still exploring classifying the IMDB movie data set as we did in the lab.   You will use the different classifiers you learned in this course: (1) LinearSVC; (2) RandomForestClassifier; (3) Deep learning. "
   ]
  },
  {
   "cell_type": "markdown",
   "metadata": {
    "id": "CJXpYJ7OJaGc"
   },
   "source": [
    "### Preprocessing"
   ]
  },
  {
   "cell_type": "code",
   "execution_count": 2,
   "metadata": {
    "id": "VOcDl-HaA7v_"
   },
   "outputs": [],
   "source": [
    "from keras.datasets import imdb\n",
    "\n",
    "(train_data, train_labels), (test_data, test_labels) = imdb.load_data(num_words=10000)\n",
    "\n",
    "import numpy as np\n",
    "\n",
    "def vectorize_sequences(sequences, dimension=10000):\n",
    "    # Create an all-zero matrix of shape (len(sequences), dimension)\n",
    "    results = np.zeros((len(sequences), dimension))\n",
    "    for i, sequence in enumerate(sequences):\n",
    "        results[i, sequence] = 1.  # set specific indices of results[i] to 1s\n",
    "    return results\n",
    "\n",
    "# Our vectorized training data\n",
    "x_train = vectorize_sequences(train_data)\n",
    "\n",
    "# Our vectorized test data\n",
    "x_test = vectorize_sequences(test_data)\n",
    "\n",
    "# Our vectorized labels\n",
    "y_train = np.asarray(train_labels).astype('float32')\n",
    "y_test = np.asarray(test_labels).astype('float32')"
   ]
  },
  {
   "cell_type": "markdown",
   "metadata": {
    "id": "TtbYQ4ePG9G5"
   },
   "source": [
    "### Question 1(a) (10 points)\n",
    "Please use LinearSVC to train the model and return the mean accuracy on the given test data and labels. You can use the default parameteers in LinearSVC."
   ]
  },
  {
   "cell_type": "code",
   "execution_count": 4,
   "metadata": {
    "colab": {
     "base_uri": "https://localhost:8080/"
    },
    "id": "HTNinbb2Y4co",
    "outputId": "de26634d-d45e-43b7-ba9d-24c7577bddfe"
   },
   "outputs": [
    {
     "name": "stderr",
     "output_type": "stream",
     "text": [
      "/usr/local/lib/python3.6/dist-packages/sklearn/svm/_base.py:947: ConvergenceWarning: Liblinear failed to converge, increase the number of iterations.\n",
      "  \"the number of iterations.\", ConvergenceWarning)\n"
     ]
    },
    {
     "data": {
      "text/plain": [
       "0.8356"
      ]
     },
     "execution_count": 4,
     "metadata": {
      "tags": []
     },
     "output_type": "execute_result"
    }
   ],
   "source": [
    "def answer_one_a():\n",
    "    from sklearn.svm import LinearSVC\n",
    "    from sklearn.metrics import accuracy_score\n",
    "    from sklearn.pipeline import Pipeline\n",
    "    from sklearn.preprocessing import MinMaxScaler\n",
    "\n",
    "    #Pipeline\n",
    "    clf = Pipeline([('scalar',MinMaxScaler()),('LinerSVC',LinearSVC())])\n",
    "    \n",
    "    #Fit\n",
    "    clf.fit(x_train, y_train)\n",
    "    \n",
    "    #Prediction\n",
    "    svc_preidction= clf.predict(x_test)\n",
    "\n",
    "    #Accuracy Score\n",
    "    test_score= accuracy_score(svc_preidction,y_test)\n",
    "\n",
    "    #Score (same as accuracy)\n",
    "    test_score = clf.score(x_test, y_test)\n",
    "    \n",
    "    return test_score\n",
    "\n",
    "answer_one_a()"
   ]
  },
  {
   "cell_type": "markdown",
   "metadata": {
    "id": "ImowCOgQK3tb"
   },
   "source": [
    "### Question 1(b) (10 points)\n",
    "Please use RandomForestClassifier (with random_state = 0) to train the model and return the mean accuracy on the given test data and labels. "
   ]
  },
  {
   "cell_type": "code",
   "execution_count": 5,
   "metadata": {
    "colab": {
     "base_uri": "https://localhost:8080/"
    },
    "id": "haEhg85RGSS1",
    "outputId": "362148e4-b8e4-4ba0-91e4-3e7b8a80f575"
   },
   "outputs": [
    {
     "data": {
      "text/plain": [
       "0.84384"
      ]
     },
     "execution_count": 5,
     "metadata": {
      "tags": []
     },
     "output_type": "execute_result"
    }
   ],
   "source": [
    "def answer_one_b():\n",
    "    from sklearn.ensemble import RandomForestClassifier\n",
    "    \n",
    "    #Random Forest\n",
    "    clf = RandomForestClassifier(random_state=0)\n",
    "\n",
    "    #Fit\n",
    "    clf.fit(x_train, y_train)\n",
    "\n",
    "    #Test score\n",
    "    test_score = clf.score(x_test, y_test)\n",
    "  \n",
    "    return test_score\n",
    "answer_one_b()"
   ]
  },
  {
   "cell_type": "markdown",
   "metadata": {
    "id": "1ydNcuKDMLA3"
   },
   "source": [
    "### Question 1(c) (20 points)\n",
    "\n",
    "Please use the below architecture of the dense layers to design your model:\n",
    "one intermediate layers with 32 hidden units, \n",
    "and a second layer which will output the scalar prediction regarding the sentiment of the current review. \n",
    "\n",
    "The intermediate layer will use `relu` as its \"activation function\", \n",
    "and the final layer will use a sigmoid activation so as to output a probability \n",
    "(a score between 0 and 1, indicating how likely the sample is to have the target \"1\", i.e. how likely the review is to be positive). \n",
    "A `relu` (rectified linear unit) is a function meant to zero-out negative values, \n",
    "while a sigmoid \"squashes\" arbitrary values into the `[0, 1]` interval, thus outputting something that can be interpreted as a probability.\n",
    "\n",
    "We configure our model with the `rmsprop` optimizer and the `binary_crossentropy` loss function as we did in the lab. Note that we will \n",
    "also monitor accuracy during training.\n",
    "\n",
    "For model fitting, we train our model for 4 epochs (4 iterations over all samples in the x_train and y_train tensors), in mini-batches of 512 samples.\n",
    "\n",
    "Please return the testing accuracy. "
   ]
  },
  {
   "cell_type": "code",
   "execution_count": 30,
   "metadata": {
    "colab": {
     "base_uri": "https://localhost:8080/"
    },
    "id": "7nEJEwy6MlXq",
    "outputId": "cf2678df-faef-47c3-8192-665fb72f9ec1"
   },
   "outputs": [
    {
     "name": "stdout",
     "output_type": "stream",
     "text": [
      "Epoch 1/4\n",
      "49/49 [==============================] - 2s 33ms/step - loss: 0.4101 - accuracy: 0.8314\n",
      "Epoch 2/4\n",
      "49/49 [==============================] - 2s 32ms/step - loss: 0.2445 - accuracy: 0.9134\n",
      "Epoch 3/4\n",
      "49/49 [==============================] - 2s 32ms/step - loss: 0.1959 - accuracy: 0.9305\n",
      "Epoch 4/4\n",
      "49/49 [==============================] - 2s 32ms/step - loss: 0.1670 - accuracy: 0.9416\n",
      "782/782 [==============================] - 2s 2ms/step - loss: 0.2940 - accuracy: 0.8827\n"
     ]
    },
    {
     "data": {
      "text/plain": [
       "[0.29404348134994507, 0.8826799988746643]"
      ]
     },
     "execution_count": 30,
     "metadata": {
      "tags": []
     },
     "output_type": "execute_result"
    }
   ],
   "source": [
    "def answer_one_c():\n",
    "    from keras import models\n",
    "    from keras import layers\n",
    "\n",
    "    #write your code here\n",
    "    model = models.Sequential()\n",
    "    model.add(layers.Dense(32, activation='relu', input_shape=(10000,)))\n",
    "    model.add(layers.Dense(1, activation='sigmoid'))\n",
    "\n",
    "    model.compile(optimizer='rmsprop',\n",
    "                  loss='binary_crossentropy',\n",
    "                  metrics=['accuracy'])\n",
    "\n",
    "    model.fit(x_train, y_train, epochs=4, batch_size=512)\n",
    "    results = model.evaluate(x_test, y_test)\n",
    "    return results\n",
    "\n",
    "answer_one_c()"
   ]
  },
  {
   "cell_type": "markdown",
   "metadata": {
    "id": "2zq81A_NPRVd"
   },
   "source": [
    "### Question 1(d) Open Question (10 points)\n",
    "**Can you conclude that deep learning is better than the classic ML models on this task?**\n",
    "\n",
    "\n",
    "As they get better on their training data, neural networks eventually start overfitting and end up obtaining increasingly worse results on data never-seen-before. Hence, it makes sense to check if we are indeed overfitting (or underfitting). \n",
    "\n",
    "I have run the model on a validation set (results below), so as to check for overfitting. It is apparent form the training & validation train/test scores that around epoch 3 & 4 (best test score) there is no overfitting. This represents that our model is not overfitting, nor underfitting.  In comparison to the other models, we are indeed getting a better accuracy scores. Also, we could make additional adjustments to out model architecture that could indeed better the oveall performance. Hence, I would conclude that **Deep Learning is better** on the basis that the accuracy is higher & that there is no apparent overfitting.  \n",
    "\n",
    "**If so, what do you think that helps Deep Learning perform better?**\n",
    "\n",
    "* Deep learning networks can learn very complicated relationships. They can form a much deeper understanding of a sequence and its context, compared to other algorithms  (random forest/linearSVC).\n",
    "\n",
    "* Perhaps, in this setting the features are learned my the machine, rather than forced by the intuition of the desginer (me). Hence, this lack  of imposition allows for the true structures to emerge. \n",
    "\n",
    "* Stacks of `Dense` layers with `relu` activations can solve a wide range of problems which allows to capture relationships that can be missed by other models techniques. \n",
    "\n",
    "* Can use different network structures to improve performance & add featuers such as embeddings. \n"
   ]
  },
  {
   "cell_type": "code",
   "execution_count": 17,
   "metadata": {
    "colab": {
     "base_uri": "https://localhost:8080/"
    },
    "id": "6Hv14YdnyBuF",
    "outputId": "e88fc171-05a2-4923-c2d0-cb3fc6655c0d"
   },
   "outputs": [
    {
     "name": "stdout",
     "output_type": "stream",
     "text": [
      "Epoch 1/10\n",
      "30/30 [==============================] - 2s 53ms/step - loss: 0.4857 - accuracy: 0.7916 - val_loss: 0.3656 - val_accuracy: 0.8670\n",
      "Epoch 2/10\n",
      "30/30 [==============================] - 1s 40ms/step - loss: 0.2919 - accuracy: 0.9043 - val_loss: 0.3042 - val_accuracy: 0.8869\n",
      "Epoch 3/10\n",
      "30/30 [==============================] - 1s 40ms/step - loss: 0.2218 - accuracy: 0.9301 - val_loss: 0.2784 - val_accuracy: 0.8916\n",
      "Epoch 4/10\n",
      "30/30 [==============================] - 1s 40ms/step - loss: 0.1810 - accuracy: 0.9427 - val_loss: 0.2731 - val_accuracy: 0.8907\n",
      "Epoch 5/10\n",
      "30/30 [==============================] - 1s 40ms/step - loss: 0.1513 - accuracy: 0.9529 - val_loss: 0.2767 - val_accuracy: 0.8881\n",
      "Epoch 6/10\n",
      "30/30 [==============================] - 1s 39ms/step - loss: 0.1249 - accuracy: 0.9641 - val_loss: 0.2839 - val_accuracy: 0.8861\n",
      "Epoch 7/10\n",
      "30/30 [==============================] - 1s 40ms/step - loss: 0.1105 - accuracy: 0.9683 - val_loss: 0.3109 - val_accuracy: 0.8794\n",
      "Epoch 8/10\n",
      "30/30 [==============================] - 1s 39ms/step - loss: 0.0922 - accuracy: 0.9759 - val_loss: 0.3076 - val_accuracy: 0.8832\n",
      "Epoch 9/10\n",
      "30/30 [==============================] - 1s 40ms/step - loss: 0.0820 - accuracy: 0.9788 - val_loss: 0.3235 - val_accuracy: 0.8816\n",
      "Epoch 10/10\n",
      "30/30 [==============================] - 1s 39ms/step - loss: 0.0693 - accuracy: 0.9835 - val_loss: 0.3373 - val_accuracy: 0.8817\n"
     ]
    },
    {
     "data": {
      "text/plain": [
       "dict_keys(['loss', 'accuracy', 'val_loss', 'val_accuracy'])"
      ]
     },
     "execution_count": 17,
     "metadata": {
      "tags": []
     },
     "output_type": "execute_result"
    }
   ],
   "source": [
    "from keras import models\n",
    "from keras import layers\n",
    "x_val = x_train[:10000]\n",
    "partial_x_train = x_train[10000:]\n",
    "\n",
    "y_val = y_train[:10000]\n",
    "partial_y_train = y_train[10000:]\n",
    "\n",
    "#write your code here\n",
    "model = models.Sequential()\n",
    "model.add(layers.Dense(32, activation='relu', input_shape=(10000,)))\n",
    "model.add(layers.Dense(1, activation='sigmoid'))\n",
    "model.compile(optimizer='rmsprop',\n",
    "                  loss='binary_crossentropy',\n",
    "                  metrics=['accuracy'])\n",
    "history = model.fit(partial_x_train,\n",
    "                    partial_y_train,\n",
    "                    epochs=10,\n",
    "                    batch_size=512,\n",
    "                    validation_data=(x_val, y_val))\n",
    "history_dict = history.history\n",
    "history_dict.keys()"
   ]
  },
  {
   "cell_type": "code",
   "execution_count": 18,
   "metadata": {
    "colab": {
     "base_uri": "https://localhost:8080/",
     "height": 479
    },
    "id": "Ixm_TIXxyxbJ",
    "outputId": "c7bc3537-9e46-4423-dae8-315e0786eee5"
   },
   "outputs": [
    {
     "data": {
      "image/png": "[encoded data removed]",
      "text/plain": [
       "<Figure size 432x288 with 1 Axes>"
      ]
     },
     "metadata": {
      "needs_background": "light",
      "tags": []
     },
     "output_type": "display_data"
    },
    {
     "data": {
      "text/plain": [
       "[0.3656480610370636,\n",
       " 0.30420365929603577,\n",
       " 0.27836844325065613,\n",
       " 0.2730787396430969,\n",
       " 0.2766709327697754,\n",
       " 0.2838616669178009,\n",
       " 0.31086641550064087,\n",
       " 0.30760645866394043,\n",
       " 0.3235381245613098,\n",
       " 0.3373151123523712]"
      ]
     },
     "execution_count": 18,
     "metadata": {
      "tags": []
     },
     "output_type": "execute_result"
    }
   ],
   "source": [
    "import matplotlib.pyplot as plt\n",
    "\n",
    "acc = history.history['accuracy']\n",
    "val_acc = history.history['val_accuracy']\n",
    "loss = history.history['loss']\n",
    "val_loss = history.history['val_loss']\n",
    "\n",
    "epochs = range(1, len(acc) + 1)\n",
    "\n",
    "# \"bo\" is for \"blue dot\"\n",
    "plt.plot(epochs, loss, 'bo', label='Training loss')\n",
    "# b is for \"solid blue line\"\n",
    "plt.plot(epochs, val_loss, 'b', label='Validation loss')\n",
    "plt.title('Training and validation loss')\n",
    "plt.xlabel('Epochs')\n",
    "plt.ylabel('Loss')\n",
    "plt.legend()\n",
    "\n",
    "plt.show()\n",
    "val_loss"
   ]
  },
  {
   "cell_type": "code",
   "execution_count": 19,
   "metadata": {
    "colab": {
     "base_uri": "https://localhost:8080/",
     "height": 352
    },
    "id": "gMWrbt2izJY6",
    "outputId": "307abeb9-a97c-4687-9bce-e06e18647df0"
   },
   "outputs": [
    {
     "data": {
      "image/png": "[encoded data removed]",
      "text/plain": [
       "<Figure size 432x288 with 1 Axes>"
      ]
     },
     "metadata": {
      "needs_background": "light",
      "tags": []
     },
     "output_type": "display_data"
    },
    {
     "name": "stdout",
     "output_type": "stream",
     "text": [
      "range(1, 11)\n",
      "[0.8669999837875366, 0.886900007724762, 0.8916000127792358, 0.8906999826431274, 0.8881000280380249, 0.8860999941825867, 0.8794000148773193, 0.8831999897956848, 0.881600022315979, 0.8816999793052673]\n"
     ]
    }
   ],
   "source": [
    "plt.clf()   # clear figure\n",
    "acc_values = history_dict['accuracy']\n",
    "val_acc_values = history_dict['val_accuracy']\n",
    "\n",
    "plt.plot(epochs, acc, 'bo', label='Training acc')\n",
    "plt.plot(epochs, val_acc, 'b', label='Validation acc')\n",
    "plt.title('Training and validation accuracy')\n",
    "plt.xlabel('Epochs')\n",
    "plt.ylabel('Loss')\n",
    "plt.legend()\n",
    "\n",
    "plt.show()\n",
    "print(epochs)\n",
    "print(val_acc)"
   ]
  },
  {
   "cell_type": "markdown",
   "metadata": {
    "id": "x3PSt7I5R6fC"
   },
   "source": [
    "## Question 2 Hyper-parameteer tunning in DL (40 points)\n",
    "\n",
    "We have shown you how to tune parameters such as training epoch in the lab. \n",
    "\n",
    "In this question, we are exploring the hyper-parameteer tuning in deep learning from the perspective of the size of the network. "
   ]
  },
  {
   "cell_type": "markdown",
   "metadata": {
    "id": "rPfJlhYKTnMo"
   },
   "source": [
    "First, we divide some part of training data into valiadation data. "
   ]
  },
  {
   "cell_type": "code",
   "execution_count": 6,
   "metadata": {
    "id": "Fd3GmUL4TmKO"
   },
   "outputs": [],
   "source": [
    "x_val = x_train[:10000]\n",
    "partial_x_train = x_train[10000:]\n",
    "\n",
    "y_val = y_train[:10000]\n",
    "partial_y_train = y_train[10000:]"
   ]
  },
  {
   "cell_type": "markdown",
   "metadata": {
    "id": "kOGtwWvATxKi"
   },
   "source": [
    "### Question 2(a): (30 points)\n",
    "\n",
    "Follow the IMDB classification question in Question 1, we hope you design and test different neural network. You shall vary the first intermediate layer with [3, 6, 9, 12] hidden units, and the second intermediate layer with [2, 4, 6, 8] hidden units. \n",
    "\n",
    "The last layer which will output the scalar prediction regarding the sentiment of the current review. \n",
    "\n",
    "Apply the different models onto the valiadation set and return the best model with highest accuracy on the valiadation. You should three numbers, which represent the best model's number of hideen units in first, second intermediate layer, and the best accuracy. \n",
    "\n",
    "Fit the model by using the default setting in 1(c). (epochs = 4, batch_sze = 512, optimizer = rmsprop, loss = binary_crossentropy, metrics = 'accuracy')"
   ]
  },
  {
   "cell_type": "code",
   "execution_count": 35,
   "metadata": {
    "colab": {
     "base_uri": "https://localhost:8080/"
    },
    "id": "ybSD6iByUz3n",
    "outputId": "201cead3-26cb-4525-94e3-9690a76ebaed"
   },
   "outputs": [
    {
     "name": "stdout",
     "output_type": "stream",
     "text": [
      "Epoch 1/4\n",
      "30/30 [==============================] - 1s 23ms/step - loss: 0.6428 - accuracy: 0.6575\n",
      "Epoch 2/4\n",
      "30/30 [==============================] - 1s 22ms/step - loss: 0.5675 - accuracy: 0.7660\n",
      "Epoch 3/4\n",
      "30/30 [==============================] - 1s 23ms/step - loss: 0.5216 - accuracy: 0.8194\n",
      "Epoch 4/4\n",
      "30/30 [==============================] - 1s 23ms/step - loss: 0.4872 - accuracy: 0.8557\n",
      "313/313 [==============================] - 1s 2ms/step - loss: 0.5064 - accuracy: 0.8172\n",
      "Epoch 1/4\n",
      "30/30 [==============================] - 1s 23ms/step - loss: 0.6495 - accuracy: 0.6121\n",
      "Epoch 2/4\n",
      "30/30 [==============================] - 1s 22ms/step - loss: 0.5777 - accuracy: 0.7394\n",
      "Epoch 3/4\n",
      "30/30 [==============================] - 1s 22ms/step - loss: 0.5326 - accuracy: 0.8027\n",
      "Epoch 4/4\n",
      "30/30 [==============================] - 1s 23ms/step - loss: 0.4976 - accuracy: 0.8413\n",
      "313/313 [==============================] - 1s 2ms/step - loss: 0.5079 - accuracy: 0.8071\n",
      "Epoch 1/4\n",
      "30/30 [==============================] - 1s 24ms/step - loss: 0.6007 - accuracy: 0.7437\n",
      "Epoch 2/4\n",
      "30/30 [==============================] - 1s 23ms/step - loss: 0.4579 - accuracy: 0.8701\n",
      "Epoch 3/4\n",
      "30/30 [==============================] - 1s 23ms/step - loss: 0.3672 - accuracy: 0.8959\n",
      "Epoch 4/4\n",
      "30/30 [==============================] - 1s 22ms/step - loss: 0.3030 - accuracy: 0.9115\n",
      "313/313 [==============================] - 1s 2ms/step - loss: 0.3287 - accuracy: 0.8821\n",
      "Epoch 1/4\n",
      "30/30 [==============================] - 1s 23ms/step - loss: 0.6406 - accuracy: 0.6418\n",
      "Epoch 2/4\n",
      "30/30 [==============================] - 1s 23ms/step - loss: 0.5571 - accuracy: 0.7979\n",
      "Epoch 3/4\n",
      "30/30 [==============================] - 1s 23ms/step - loss: 0.4973 - accuracy: 0.8545\n",
      "Epoch 4/4\n",
      "30/30 [==============================] - 1s 22ms/step - loss: 0.4486 - accuracy: 0.8908\n",
      "313/313 [==============================] - 1s 2ms/step - loss: 0.4680 - accuracy: 0.8370\n",
      "Epoch 1/4\n",
      "30/30 [==============================] - 1s 24ms/step - loss: 0.5659 - accuracy: 0.7650\n",
      "Epoch 2/4\n",
      "30/30 [==============================] - 1s 24ms/step - loss: 0.3868 - accuracy: 0.8933\n",
      "Epoch 3/4\n",
      "30/30 [==============================] - 1s 23ms/step - loss: 0.2937 - accuracy: 0.9201\n",
      "Epoch 4/4\n",
      "30/30 [==============================] - 1s 23ms/step - loss: 0.2343 - accuracy: 0.9339\n",
      "313/313 [==============================] - 1s 2ms/step - loss: 0.2994 - accuracy: 0.8843\n",
      "Epoch 1/4\n",
      "30/30 [==============================] - 1s 23ms/step - loss: 0.6007 - accuracy: 0.7105\n",
      "Epoch 2/4\n",
      "30/30 [==============================] - 1s 24ms/step - loss: 0.5094 - accuracy: 0.8295\n",
      "Epoch 3/4\n",
      "30/30 [==============================] - 1s 24ms/step - loss: 0.4659 - accuracy: 0.8691\n",
      "Epoch 4/4\n",
      "30/30 [==============================] - 1s 23ms/step - loss: 0.4343 - accuracy: 0.8967\n",
      "313/313 [==============================] - 1s 2ms/step - loss: 0.4728 - accuracy: 0.8671\n",
      "Epoch 1/4\n",
      "30/30 [==============================] - 1s 23ms/step - loss: 0.6064 - accuracy: 0.6746\n",
      "Epoch 2/4\n",
      "30/30 [==============================] - 1s 23ms/step - loss: 0.4442 - accuracy: 0.8715\n",
      "Epoch 3/4\n",
      "30/30 [==============================] - 1s 24ms/step - loss: 0.3286 - accuracy: 0.9093\n",
      "Epoch 4/4\n",
      "30/30 [==============================] - 1s 23ms/step - loss: 0.2595 - accuracy: 0.9265\n",
      "313/313 [==============================] - 1s 2ms/step - loss: 0.2995 - accuracy: 0.8881\n",
      "Epoch 1/4\n",
      "30/30 [==============================] - 1s 24ms/step - loss: 0.5554 - accuracy: 0.7666\n",
      "Epoch 2/4\n",
      "30/30 [==============================] - 1s 24ms/step - loss: 0.3752 - accuracy: 0.8901\n",
      "Epoch 3/4\n",
      "30/30 [==============================] - 1s 24ms/step - loss: 0.2823 - accuracy: 0.9162\n",
      "Epoch 4/4\n",
      "30/30 [==============================] - 1s 23ms/step - loss: 0.2262 - accuracy: 0.9312\n",
      "313/313 [==============================] - 1s 2ms/step - loss: 0.2861 - accuracy: 0.8903\n",
      "Epoch 1/4\n",
      "30/30 [==============================] - 1s 26ms/step - loss: 0.5323 - accuracy: 0.7659\n",
      "Epoch 2/4\n",
      "30/30 [==============================] - 1s 26ms/step - loss: 0.3441 - accuracy: 0.8990\n",
      "Epoch 3/4\n",
      "30/30 [==============================] - 1s 27ms/step - loss: 0.2633 - accuracy: 0.9215\n",
      "Epoch 4/4\n",
      "30/30 [==============================] - 1s 26ms/step - loss: 0.2130 - accuracy: 0.9365\n",
      "313/313 [==============================] - 1s 2ms/step - loss: 0.2812 - accuracy: 0.8903\n",
      "Epoch 1/4\n",
      "30/30 [==============================] - 1s 27ms/step - loss: 0.5115 - accuracy: 0.7875\n",
      "Epoch 2/4\n",
      "30/30 [==============================] - 1s 27ms/step - loss: 0.3251 - accuracy: 0.9025\n",
      "Epoch 3/4\n",
      "30/30 [==============================] - 1s 27ms/step - loss: 0.2477 - accuracy: 0.9243\n",
      "Epoch 4/4\n",
      "30/30 [==============================] - 1s 26ms/step - loss: 0.2025 - accuracy: 0.9387\n",
      "313/313 [==============================] - 1s 2ms/step - loss: 0.2884 - accuracy: 0.8861\n",
      "Epoch 1/4\n",
      "30/30 [==============================] - 1s 28ms/step - loss: 0.5549 - accuracy: 0.7711\n",
      "Epoch 2/4\n",
      "30/30 [==============================] - 1s 27ms/step - loss: 0.3743 - accuracy: 0.8921\n",
      "Epoch 3/4\n",
      "30/30 [==============================] - 1s 28ms/step - loss: 0.2819 - accuracy: 0.9173\n",
      "Epoch 4/4\n",
      "30/30 [==============================] - 1s 27ms/step - loss: 0.2253 - accuracy: 0.9327\n",
      "313/313 [==============================] - 1s 2ms/step - loss: 0.2854 - accuracy: 0.8909\n",
      "Epoch 1/4\n",
      "30/30 [==============================] - 1s 28ms/step - loss: 0.5532 - accuracy: 0.7674\n",
      "Epoch 2/4\n",
      "30/30 [==============================] - 1s 27ms/step - loss: 0.3591 - accuracy: 0.8912\n",
      "Epoch 3/4\n",
      "30/30 [==============================] - 1s 27ms/step - loss: 0.2674 - accuracy: 0.9167\n",
      "Epoch 4/4\n",
      "30/30 [==============================] - 1s 26ms/step - loss: 0.2126 - accuracy: 0.9347\n",
      "313/313 [==============================] - 1s 2ms/step - loss: 0.2786 - accuracy: 0.8915\n",
      "Epoch 1/4\n",
      "30/30 [==============================] - 1s 27ms/step - loss: 0.5971 - accuracy: 0.6103\n",
      "Epoch 2/4\n",
      "30/30 [==============================] - 1s 27ms/step - loss: 0.4941 - accuracy: 0.8045\n",
      "Epoch 3/4\n",
      "30/30 [==============================] - 1s 27ms/step - loss: 0.4498 - accuracy: 0.8709\n",
      "Epoch 4/4\n",
      "30/30 [==============================] - 1s 27ms/step - loss: 0.4185 - accuracy: 0.9059\n",
      "313/313 [==============================] - 1s 2ms/step - loss: 0.4732 - accuracy: 0.8437\n",
      "Epoch 1/4\n",
      "30/30 [==============================] - 1s 30ms/step - loss: 0.5865 - accuracy: 0.7281\n",
      "Epoch 2/4\n",
      "30/30 [==============================] - 1s 29ms/step - loss: 0.4281 - accuracy: 0.8785\n",
      "Epoch 3/4\n",
      "30/30 [==============================] - 1s 30ms/step - loss: 0.3247 - accuracy: 0.9161\n",
      "Epoch 4/4\n",
      "30/30 [==============================] - 1s 30ms/step - loss: 0.2543 - accuracy: 0.9305\n",
      "313/313 [==============================] - 1s 2ms/step - loss: 0.3035 - accuracy: 0.8911\n",
      "Epoch 1/4\n",
      "30/30 [==============================] - 1s 27ms/step - loss: 0.5313 - accuracy: 0.7763\n",
      "Epoch 2/4\n",
      "30/30 [==============================] - 1s 28ms/step - loss: 0.3337 - accuracy: 0.8985\n",
      "Epoch 3/4\n",
      "30/30 [==============================] - 1s 28ms/step - loss: 0.2479 - accuracy: 0.9242\n",
      "Epoch 4/4\n",
      "30/30 [==============================] - 1s 28ms/step - loss: 0.1982 - accuracy: 0.9373\n",
      "313/313 [==============================] - 1s 2ms/step - loss: 0.2749 - accuracy: 0.8902\n",
      "Epoch 1/4\n",
      "30/30 [==============================] - 1s 28ms/step - loss: 0.5635 - accuracy: 0.7888\n",
      "Epoch 2/4\n",
      "30/30 [==============================] - 1s 28ms/step - loss: 0.3510 - accuracy: 0.8923\n",
      "Epoch 3/4\n",
      "30/30 [==============================] - 1s 28ms/step - loss: 0.2609 - accuracy: 0.9191\n",
      "Epoch 4/4\n",
      "30/30 [==============================] - 1s 27ms/step - loss: 0.2074 - accuracy: 0.9339\n",
      "313/313 [==============================] - 1s 2ms/step - loss: 0.2814 - accuracy: 0.8902\n"
     ]
    },
    {
     "data": {
      "text/plain": [
       "(9, 8, 0.8914999961853027)"
      ]
     },
     "execution_count": 35,
     "metadata": {
      "tags": []
     },
     "output_type": "execute_result"
    }
   ],
   "source": [
    "def answer_two_a():\n",
    "    from keras import models\n",
    "    from keras import layers\n",
    "\n",
    "    best_first, best_second, best_res = 0, 0, 0\n",
    "    for first_layer in [3, 6, 9, 12]:\n",
    "        for second_layer in [2, 4, 6, 8]:\n",
    "          #Initialize sequential model \n",
    "          model = models.Sequential()\n",
    "\n",
    "          #Layer 1\n",
    "          model.add(layers.Dense(first_layer, activation='relu', input_shape=(10000,)))\n",
    "\n",
    "          #Layer 2 \n",
    "          model.add(layers.Dense(second_layer, activation='relu', input_shape=(10000,)))\n",
    "            \n",
    "          #Prediction Layer\n",
    "          model.add(layers.Dense(1, activation='sigmoid'))\n",
    " \n",
    "          #Compile Mode\n",
    "          model.compile(optimizer='rmsprop',loss='binary_crossentropy',metrics=['accuracy'])\n",
    "\n",
    "          #Fit\n",
    "          model.fit(partial_x_train, partial_y_train, epochs=4, batch_size=512)\n",
    "\n",
    "          # Testing error\n",
    "          results = model.evaluate(x_val, y_val)\n",
    "          \n",
    "          if(results[1]>best_res):\n",
    "            best_first, best_second, best_res =first_layer,second_layer,results[1]\n",
    "      \n",
    "    return best_first, best_second, best_res\n",
    "\n",
    "answer_two_a()"
   ]
  },
  {
   "cell_type": "markdown",
   "metadata": {
    "id": "em0olr1NX9jQ"
   },
   "source": [
    "### Question 2(b): (10 points)\n",
    "\n",
    "**According to the performance we observed for the models. Which design is best for this task?**\n",
    "\n",
    "After taking in account the different models performances, it looks that the best model is the Deep learning model with two layers; where the **first layer is 9 & the second layer is 8** . I re-ran the model on the entire dataset. The accuracy score  on the test data is indeed better (slightly) even than the models in question 1. \n",
    "\n",
    "**What take-away do you get from this question? Does it mean larger network improve the model's performance?**\n",
    "\n",
    "More flexibility does not necessarily mean that we will get a better accuracy on the testing data. Instead the **right degree of flexibility**(largness) is crucial so as to make use of the power of deep learning and at the same time ensure that that we are  putting restrictions to avoid over-fitting. \n",
    "\n",
    "For example, below is the list of accuracy values from a previous modeling attempt. It is noticable that when the network is with configuration 3,2 (first) the accuracy is 0.88; on the other hand, when the network is with configuration 12,6 (one-to last), the accuracy is almost is 0.87. Hence, a larger network does not necessarily mean a better accuracy. \n",
    "\n",
    "[[3, 2, 0.8824999928474426],\n",
    "\n",
    "  [3, 4, 0.8672999739646912],\n",
    "\n",
    "  [3, 6, 0.8754000067710876],\n",
    "\n",
    "  [3, 8, 0.880299985408783],\n",
    "\n",
    "  [6, 2, 0.8421000242233276],\n",
    "\n",
    "  [6, 4, 0.8616999983787537],\n",
    "\n",
    "  [6, 6, 0.8865000009536743],\n",
    "\n",
    "  [6, 8, 0.8906999826431274],\n",
    "\n",
    "  [9, 2, 0.8888000249862671],\n",
    "\n",
    "  [9, 4, 0.8871999979019165],\n",
    "\n",
    "  [9, 6, 0.8881000280380249],\n",
    "\n",
    "  [9, 8, 0.8878999948501587],\n",
    "\n",
    "  [12, 2, 0.8889999985694885],\n",
    "\n",
    "  [12, 4, 0.8924000263214111],\n",
    "\n",
    "  [12, 6, 0.8740000128746033],\n",
    "\n",
    "  [12, 8, 0.8880000114440918]])\n",
    "\n"
   ]
  },
  {
   "cell_type": "code",
   "execution_count": 5,
   "metadata": {
    "colab": {
     "base_uri": "https://localhost:8080/"
    },
    "id": "ZZxlvOWgYKS5",
    "outputId": "8142c4d0-f24a-404a-8c39-b48f0cf4cd83"
   },
   "outputs": [
    {
     "name": "stdout",
     "output_type": "stream",
     "text": [
      "Epoch 1/4\n",
      "49/49 [==============================] - 1s 27ms/step - loss: 0.5156 - accuracy: 0.7934\n",
      "Epoch 2/4\n",
      "49/49 [==============================] - 1s 27ms/step - loss: 0.3154 - accuracy: 0.9048\n",
      "Epoch 3/4\n",
      "49/49 [==============================] - 1s 27ms/step - loss: 0.2336 - accuracy: 0.9211\n",
      "Epoch 4/4\n",
      "49/49 [==============================] - 1s 27ms/step - loss: 0.1913 - accuracy: 0.9348\n",
      "782/782 [==============================] - 1s 2ms/step - loss: 0.2873 - accuracy: 0.8856\n"
     ]
    },
    {
     "data": {
      "text/plain": [
       "[0.2872650921344757, 0.8855999708175659]"
      ]
     },
     "execution_count": 5,
     "metadata": {
      "tags": []
     },
     "output_type": "execute_result"
    }
   ],
   "source": [
    "from keras import models\n",
    "from keras import layers\n",
    "#Initialize sequential model \n",
    "model = models.Sequential()\n",
    "\n",
    "#Layer 1\n",
    "model.add(layers.Dense(9, activation='relu', input_shape=(10000,)))\n",
    "\n",
    "#Layer 2 \n",
    "model.add(layers.Dense(8, activation='relu', input_shape=(10000,)))\n",
    "            \n",
    "#Prediction Layer\n",
    "model.add(layers.Dense(1, activation='sigmoid'))\n",
    "\n",
    "#Compile Mode\n",
    "model.compile(optimizer='rmsprop',loss='binary_crossentropy',metrics=['accuracy'])\n",
    "\n",
    "#Fit\n",
    "model.fit(x_train, y_train, epochs=4, batch_size=512)\n",
    "\n",
    "# Testing error\n",
    "results = model.evaluate(x_test, y_test)\n",
    "results"
   ]
  },
  {
   "cell_type": "code",
   "execution_count": 8,
   "metadata": {
    "colab": {
     "base_uri": "https://localhost:8080/"
    },
    "id": "Puq_fu7-bdrh",
    "outputId": "18ea8c2a-fe63-454b-b1d4-3b15eaec0b70"
   },
   "outputs": [
    {
     "name": "stdout",
     "output_type": "stream",
     "text": [
      "Epoch 1/4\n",
      "30/30 [==============================] - 1s 22ms/step - loss: 0.6152 - accuracy: 0.7161\n",
      "Epoch 2/4\n",
      "30/30 [==============================] - 1s 22ms/step - loss: 0.5108 - accuracy: 0.8439\n",
      "Epoch 3/4\n",
      "30/30 [==============================] - 1s 22ms/step - loss: 0.4464 - accuracy: 0.8893\n",
      "Epoch 4/4\n",
      "30/30 [==============================] - 1s 22ms/step - loss: 0.3871 - accuracy: 0.9170\n",
      "313/313 [==============================] - 1s 2ms/step - loss: 0.4043 - accuracy: 0.8825\n",
      "Epoch 1/4\n",
      "30/30 [==============================] - 1s 23ms/step - loss: 0.6134 - accuracy: 0.6562\n",
      "Epoch 2/4\n",
      "30/30 [==============================] - 1s 22ms/step - loss: 0.5210 - accuracy: 0.8014\n",
      "Epoch 3/4\n",
      "30/30 [==============================] - 1s 22ms/step - loss: 0.4740 - accuracy: 0.8605\n",
      "Epoch 4/4\n",
      "30/30 [==============================] - 1s 22ms/step - loss: 0.4408 - accuracy: 0.8956\n",
      "313/313 [==============================] - 1s 2ms/step - loss: 0.4737 - accuracy: 0.8673\n",
      "Epoch 1/4\n",
      "30/30 [==============================] - 1s 22ms/step - loss: 0.6315 - accuracy: 0.7326\n",
      "Epoch 2/4\n",
      "30/30 [==============================] - 1s 22ms/step - loss: 0.4993 - accuracy: 0.8631\n",
      "Epoch 3/4\n",
      "30/30 [==============================] - 1s 22ms/step - loss: 0.4058 - accuracy: 0.8853\n",
      "Epoch 4/4\n",
      "30/30 [==============================] - 1s 22ms/step - loss: 0.3232 - accuracy: 0.8999\n",
      "313/313 [==============================] - 1s 2ms/step - loss: 0.3389 - accuracy: 0.8754\n",
      "Epoch 1/4\n",
      "30/30 [==============================] - 1s 22ms/step - loss: 0.6046 - accuracy: 0.7648\n",
      "Epoch 2/4\n",
      "30/30 [==============================] - 1s 23ms/step - loss: 0.4574 - accuracy: 0.8733\n",
      "Epoch 3/4\n",
      "30/30 [==============================] - 1s 22ms/step - loss: 0.3579 - accuracy: 0.8991\n",
      "Epoch 4/4\n",
      "30/30 [==============================] - 1s 22ms/step - loss: 0.2910 - accuracy: 0.9149\n",
      "313/313 [==============================] - 1s 2ms/step - loss: 0.3242 - accuracy: 0.8803\n",
      "Epoch 1/4\n",
      "30/30 [==============================] - 1s 22ms/step - loss: 0.5918 - accuracy: 0.7183\n",
      "Epoch 2/4\n",
      "30/30 [==============================] - 1s 21ms/step - loss: 0.4904 - accuracy: 0.8448\n",
      "Epoch 3/4\n",
      "30/30 [==============================] - 1s 23ms/step - loss: 0.4474 - accuracy: 0.8835\n",
      "Epoch 4/4\n",
      "30/30 [==============================] - 1s 22ms/step - loss: 0.4186 - accuracy: 0.9089\n",
      "313/313 [==============================] - 1s 2ms/step - loss: 0.4817 - accuracy: 0.8421\n",
      "Epoch 1/4\n",
      "30/30 [==============================] - 1s 25ms/step - loss: 0.6342 - accuracy: 0.6675\n",
      "Epoch 2/4\n",
      "30/30 [==============================] - 1s 24ms/step - loss: 0.5498 - accuracy: 0.7883\n",
      "Epoch 3/4\n",
      "30/30 [==============================] - 1s 24ms/step - loss: 0.5017 - accuracy: 0.8425\n",
      "Epoch 4/4\n",
      "30/30 [==============================] - 1s 23ms/step - loss: 0.4659 - accuracy: 0.8760\n",
      "313/313 [==============================] - 1s 2ms/step - loss: 0.4859 - accuracy: 0.8617\n",
      "Epoch 1/4\n",
      "30/30 [==============================] - 1s 23ms/step - loss: 0.5330 - accuracy: 0.7819\n",
      "Epoch 2/4\n",
      "30/30 [==============================] - 1s 23ms/step - loss: 0.3431 - accuracy: 0.9011\n",
      "Epoch 3/4\n",
      "30/30 [==============================] - 1s 22ms/step - loss: 0.2610 - accuracy: 0.9249\n",
      "Epoch 4/4\n",
      "30/30 [==============================] - 1s 22ms/step - loss: 0.2128 - accuracy: 0.9373\n",
      "313/313 [==============================] - 1s 2ms/step - loss: 0.2920 - accuracy: 0.8865\n",
      "Epoch 1/4\n",
      "30/30 [==============================] - 1s 24ms/step - loss: 0.5635 - accuracy: 0.7751\n",
      "Epoch 2/4\n",
      "30/30 [==============================] - 1s 23ms/step - loss: 0.3882 - accuracy: 0.8923\n",
      "Epoch 3/4\n",
      "30/30 [==============================] - 1s 23ms/step - loss: 0.2981 - accuracy: 0.9165\n",
      "Epoch 4/4\n",
      "30/30 [==============================] - 1s 22ms/step - loss: 0.2411 - accuracy: 0.9301\n",
      "313/313 [==============================] - 1s 2ms/step - loss: 0.2933 - accuracy: 0.8907\n",
      "Epoch 1/4\n",
      "30/30 [==============================] - 1s 25ms/step - loss: 0.5713 - accuracy: 0.7643\n",
      "Epoch 2/4\n",
      "30/30 [==============================] - 1s 26ms/step - loss: 0.4098 - accuracy: 0.8900\n",
      "Epoch 3/4\n",
      "30/30 [==============================] - 1s 25ms/step - loss: 0.3166 - accuracy: 0.9135\n",
      "Epoch 4/4\n",
      "30/30 [==============================] - 1s 25ms/step - loss: 0.2564 - accuracy: 0.9279\n",
      "313/313 [==============================] - 1s 2ms/step - loss: 0.3007 - accuracy: 0.8888\n",
      "Epoch 1/4\n",
      "30/30 [==============================] - 1s 25ms/step - loss: 0.6293 - accuracy: 0.7221\n",
      "Epoch 2/4\n",
      "30/30 [==============================] - 1s 26ms/step - loss: 0.4987 - accuracy: 0.8676\n",
      "Epoch 3/4\n",
      "30/30 [==============================] - 1s 25ms/step - loss: 0.3990 - accuracy: 0.8964\n",
      "Epoch 4/4\n",
      "30/30 [==============================] - 1s 26ms/step - loss: 0.3237 - accuracy: 0.9132\n",
      "313/313 [==============================] - 1s 2ms/step - loss: 0.3384 - accuracy: 0.8872\n",
      "Epoch 1/4\n",
      "30/30 [==============================] - 1s 26ms/step - loss: 0.5216 - accuracy: 0.7935\n",
      "Epoch 2/4\n",
      "30/30 [==============================] - 1s 25ms/step - loss: 0.3322 - accuracy: 0.9005\n",
      "Epoch 3/4\n",
      "30/30 [==============================] - 1s 26ms/step - loss: 0.2547 - accuracy: 0.9204\n",
      "Epoch 4/4\n",
      "30/30 [==============================] - 1s 25ms/step - loss: 0.2080 - accuracy: 0.9351\n",
      "313/313 [==============================] - 1s 2ms/step - loss: 0.2794 - accuracy: 0.8881\n",
      "Epoch 1/4\n",
      "30/30 [==============================] - 1s 26ms/step - loss: 0.5470 - accuracy: 0.7849\n",
      "Epoch 2/4\n",
      "30/30 [==============================] - 1s 26ms/step - loss: 0.3330 - accuracy: 0.9022\n",
      "Epoch 3/4\n",
      "30/30 [==============================] - 1s 27ms/step - loss: 0.2445 - accuracy: 0.9283\n",
      "Epoch 4/4\n",
      "30/30 [==============================] - 1s 26ms/step - loss: 0.1951 - accuracy: 0.9411\n",
      "313/313 [==============================] - 1s 2ms/step - loss: 0.2807 - accuracy: 0.8879\n",
      "Epoch 1/4\n",
      "30/30 [==============================] - 1s 27ms/step - loss: 0.5350 - accuracy: 0.7827\n",
      "Epoch 2/4\n",
      "30/30 [==============================] - 1s 27ms/step - loss: 0.3516 - accuracy: 0.8967\n",
      "Epoch 3/4\n",
      "30/30 [==============================] - 1s 27ms/step - loss: 0.2687 - accuracy: 0.9176\n",
      "Epoch 4/4\n",
      "30/30 [==============================] - 1s 26ms/step - loss: 0.2176 - accuracy: 0.9337\n",
      "313/313 [==============================] - 1s 2ms/step - loss: 0.2835 - accuracy: 0.8890\n",
      "Epoch 1/4\n",
      "30/30 [==============================] - 1s 27ms/step - loss: 0.5777 - accuracy: 0.7664\n",
      "Epoch 2/4\n",
      "30/30 [==============================] - 1s 27ms/step - loss: 0.4039 - accuracy: 0.8887\n",
      "Epoch 3/4\n",
      "30/30 [==============================] - 1s 27ms/step - loss: 0.3088 - accuracy: 0.9142\n",
      "Epoch 4/4\n",
      "30/30 [==============================] - 1s 26ms/step - loss: 0.2483 - accuracy: 0.9278\n",
      "313/313 [==============================] - 1s 2ms/step - loss: 0.2970 - accuracy: 0.8924\n",
      "Epoch 1/4\n",
      "30/30 [==============================] - 1s 28ms/step - loss: 0.6174 - accuracy: 0.6635\n",
      "Epoch 2/4\n",
      "30/30 [==============================] - 1s 28ms/step - loss: 0.5144 - accuracy: 0.8238\n",
      "Epoch 3/4\n",
      "30/30 [==============================] - 1s 27ms/step - loss: 0.4381 - accuracy: 0.8841\n",
      "Epoch 4/4\n",
      "30/30 [==============================] - 1s 27ms/step - loss: 0.3557 - accuracy: 0.9221\n",
      "313/313 [==============================] - 1s 2ms/step - loss: 0.3766 - accuracy: 0.8740\n",
      "Epoch 1/4\n",
      "30/30 [==============================] - 1s 26ms/step - loss: 0.5561 - accuracy: 0.7712\n",
      "Epoch 2/4\n",
      "30/30 [==============================] - 1s 26ms/step - loss: 0.3526 - accuracy: 0.8953\n",
      "Epoch 3/4\n",
      "30/30 [==============================] - 1s 26ms/step - loss: 0.2593 - accuracy: 0.9189\n",
      "Epoch 4/4\n",
      "30/30 [==============================] - 1s 26ms/step - loss: 0.2047 - accuracy: 0.9366\n",
      "313/313 [==============================] - 1s 2ms/step - loss: 0.2801 - accuracy: 0.8880\n"
     ]
    },
    {
     "data": {
      "text/plain": [
       "(12,\n",
       " 4,\n",
       " 0.8924000263214111,\n",
       " [[3, 2, 0.8824999928474426],\n",
       "  [3, 4, 0.8672999739646912],\n",
       "  [3, 6, 0.8754000067710876],\n",
       "  [3, 8, 0.880299985408783],\n",
       "  [6, 2, 0.8421000242233276],\n",
       "  [6, 4, 0.8616999983787537],\n",
       "  [6, 6, 0.8865000009536743],\n",
       "  [6, 8, 0.8906999826431274],\n",
       "  [9, 2, 0.8888000249862671],\n",
       "  [9, 4, 0.8871999979019165],\n",
       "  [9, 6, 0.8881000280380249],\n",
       "  [9, 8, 0.8878999948501587],\n",
       "  [12, 2, 0.8889999985694885],\n",
       "  [12, 4, 0.8924000263214111],\n",
       "  [12, 6, 0.8740000128746033],\n",
       "  [12, 8, 0.8880000114440918]])"
      ]
     },
     "execution_count": 8,
     "metadata": {
      "tags": []
     },
     "output_type": "execute_result"
    }
   ],
   "source": [
    "def answer_two_a():\n",
    "    from keras import models\n",
    "    from keras import layers\n",
    "\n",
    "    best_first, best_second, best_res = 0, 0, 0\n",
    "    thy=[]\n",
    "    for first_layer in [3, 6, 9, 12]:\n",
    "        for second_layer in [2, 4, 6, 8]:\n",
    "          #Initialize sequential model \n",
    "          model = models.Sequential()\n",
    "\n",
    "          #Layer 1\n",
    "          model.add(layers.Dense(first_layer, activation='relu', input_shape=(10000,)))\n",
    "\n",
    "          #Layer 2 \n",
    "          model.add(layers.Dense(second_layer, activation='relu', input_shape=(10000,)))\n",
    "            \n",
    "          #Prediction Layer\n",
    "          model.add(layers.Dense(1, activation='sigmoid'))\n",
    " \n",
    "          #Compile Mode\n",
    "          model.compile(optimizer='rmsprop',loss='binary_crossentropy',metrics=['accuracy'])\n",
    "\n",
    "          #Fit\n",
    "          model.fit(partial_x_train, partial_y_train, epochs=4, batch_size=512)\n",
    "\n",
    "          # Testing error\n",
    "          results = model.evaluate(x_val, y_val)\n",
    "          a=[first_layer,second_layer, results[1]]\n",
    "          thy.append(a)\n",
    "          if(results[1]>best_res):\n",
    "            best_first, best_second, best_res =first_layer,second_layer,results[1]\n",
    "      \n",
    "    return best_first, best_second, best_res, thy\n",
    "\n",
    "answer_two_a()"
   ]
  }
 ],
 "metadata": {
  "colab": {
   "collapsed_sections": [
    "PuzKPRVbIZa4",
    "-MoM5xcOIbQ4"
   ],
   "name": "si670f20_hw_7_mzanaj.ipynb",
   "provenance": []
  },
  "kernelspec": {
   "display_name": "Python 3",
   "language": "python",
   "name": "python3"
  },
  "language_info": {
   "codemirror_mode": {
    "name": "ipython",
    "version": 3
   },
   "file_extension": ".py",
   "mimetype": "text/x-python",
   "name": "python",
   "nbconvert_exporter": "python",
   "pygments_lexer": "ipython3",
   "version": "3.7.1"
  }
 },
 "nbformat": 4,
 "nbformat_minor": 1
}
